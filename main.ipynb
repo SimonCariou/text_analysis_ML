{
 "cells": [
  {
   "cell_type": "markdown",
   "metadata": {},
   "source": [
    "# NLP\n",
    "\n",
    "Analyse des reviews que des utilisateurs laissent sur les apps de rencontre hébergées sur les App stores.\n",
    "Le dataset dont nous allons nous servir est issu de kaggle:  https://www.kaggle.com/sidharthkriplani/datingappreviews."
   ]
  },
  {
   "cell_type": "markdown",
   "metadata": {},
   "source": [
    "## Import des librairies\n",
    "\n",
    "Nous aurons besoin de scikit-learn, pandas, numpy et ntlk la librairie d'analyse de langage naturel.\n"
   ]
  },
  {
   "cell_type": "code",
   "execution_count": 2,
   "metadata": {},
   "outputs": [
    {
     "name": "stderr",
     "output_type": "stream",
     "text": [
      "[nltk_data] Downloading package punkt to\n",
      "[nltk_data]     C:\\Users\\simon\\AppData\\Roaming\\nltk_data...\n",
      "[nltk_data]   Package punkt is already up-to-date!\n",
      "[nltk_data] Downloading package averaged_perceptron_tagger to\n",
      "[nltk_data]     C:\\Users\\simon\\AppData\\Roaming\\nltk_data...\n",
      "[nltk_data]   Package averaged_perceptron_tagger is already up-to-\n",
      "[nltk_data]       date!\n",
      "[nltk_data] Downloading package wordnet to\n",
      "[nltk_data]     C:\\Users\\simon\\AppData\\Roaming\\nltk_data...\n",
      "[nltk_data]   Package wordnet is already up-to-date!\n"
     ]
    }
   ],
   "source": [
    "\n",
    "import pandas as pd\n",
    "import numpy as np\n",
    "import matplotlib.pyplot as plt\n",
    "%matplotlib inline\n",
    "\n",
    "#NLP libs\n",
    "import re, string\n",
    "import nltk\n",
    "from nltk.tokenize import word_tokenize\n",
    "from nltk.corpus import stopwords\n",
    "from nltk.tokenize import word_tokenize\n",
    "from nltk.stem import SnowballStemmer\n",
    "from nltk.corpus import wordnet\n",
    "from nltk.stem import WordNetLemmatizer\n",
    "\n",
    "nltk.download('punkt')\n",
    "nltk.download('averaged_perceptron_tagger')\n",
    "nltk.download('wordnet')\n",
    "\n",
    "#for model-building\n",
    "from sklearn.model_selection import train_test_split\n",
    "from sklearn.linear_model import LogisticRegression\n",
    "from sklearn.naive_bayes import MultinomialNB\n",
    "from sklearn.metrics import classification_report, f1_score, accuracy_score, confusion_matrix\n",
    "from sklearn.metrics import roc_curve, auc, roc_auc_score\n",
    "\n",
    "# bag of words\n",
    "from sklearn.feature_extraction.text import TfidfVectorizer\n",
    "from sklearn.feature_extraction.text import CountVectorizer\n"
   ]
  },
  {
   "cell_type": "markdown",
   "metadata": {},
   "source": [
    "## Préparation des données\n",
    "\n",
    "Le dataset n'est pas encore propre et il faut le traiter avant toute chose."
   ]
  },
  {
   "cell_type": "markdown",
   "metadata": {},
   "source": [
    "### Nettoyage\n",
    "\n",
    "- Gérer les NaNs (les remplacer par des valeurs qui ont du sens ou tout simplement supprimer la ligne pour les données critiques)\n",
    "- S'assurer d'avoir un index unique pour chaque ligne\n",
    "- "
   ]
  },
  {
   "cell_type": "code",
   "execution_count": 3,
   "metadata": {},
   "outputs": [
    {
     "name": "stdout",
     "output_type": "stream",
     "text": [
      "On vérifie que les index sont bien des valeurs uniques:  False\n",
      "On va donc réécrire cet index.\n",
      "On va regarder si des NaNs existent dans le dataset\n",
      "Name          True\n",
      "Review        True\n",
      "Rating       False\n",
      "#ThumbsUp    False\n",
      "Date&Time    False\n",
      "App          False\n",
      "dtype: bool\n",
      "Name et Review contiennent des NaNs on va donc les nettoyer\n"
     ]
    }
   ],
   "source": [
    "df = pd.read_csv(\"./DatingAppReviewsDataset.csv\", index_col=0)\n",
    "print(\"On vérifie que les index sont bien des valeurs uniques: \", df.index.is_unique)\n",
    "\n",
    "print(\"On va donc réécrire cet index.\")\n",
    "df = df.reset_index()\n",
    "df = df.drop(\"index\", axis = 1)\n",
    "\n",
    "print(\"On va regarder si des NaNs existent dans le dataset\")\n",
    "print(df.isna().any())\n",
    "print(\"Name et Review contiennent des NaNs on va donc les nettoyer\")"
   ]
  },
  {
   "cell_type": "code",
   "execution_count": 4,
   "metadata": {},
   "outputs": [
    {
     "name": "stdout",
     "output_type": "stream",
     "text": [
      "Name         False\n",
      "Review       False\n",
      "Rating       False\n",
      "#ThumbsUp    False\n",
      "Date&Time    False\n",
      "App          False\n",
      "dtype: bool\n",
      "On n'a plus aucun NaNs et on s'est débarrasé des rows ayant des reviews vides.\n"
     ]
    }
   ],
   "source": [
    "#On supprime les rows si Review, Rating ou App sont des nan. Des lignes avec #ThumbsUp,\tDate&Time et Name étant des NAN existent \n",
    "# mais leur impact est limité dans notre analyse \n",
    "\n",
    "df.dropna(inplace=True, subset=[\"Review\", \"Rating\", \"App\"])\n",
    "df[\"Name\"].fillna(\"Not available\", inplace=True)\n",
    "\n",
    "print(df.isna().any())\n",
    "print(\"On n'a plus aucun NaNs et on s'est débarrasé des rows ayant des reviews vides.\")"
   ]
  },
  {
   "cell_type": "markdown",
   "metadata": {},
   "source": [
    "### Exploration des données\n",
    "\n",
    "Ici on va tracer des courbes en essayant de faire parler les données. Il s'agit d'une analyse exploratoire."
   ]
  },
  {
   "cell_type": "code",
   "execution_count": 5,
   "metadata": {},
   "outputs": [
    {
     "data": {
      "text/html": [
       "<div>\n",
       "<style scoped>\n",
       "    .dataframe tbody tr th:only-of-type {\n",
       "        vertical-align: middle;\n",
       "    }\n",
       "\n",
       "    .dataframe tbody tr th {\n",
       "        vertical-align: top;\n",
       "    }\n",
       "\n",
       "    .dataframe thead th {\n",
       "        text-align: right;\n",
       "    }\n",
       "</style>\n",
       "<table border=\"1\" class=\"dataframe\">\n",
       "  <thead>\n",
       "    <tr style=\"text-align: right;\">\n",
       "      <th></th>\n",
       "      <th>#ThumbsUp</th>\n",
       "    </tr>\n",
       "    <tr>\n",
       "      <th>Rating</th>\n",
       "      <th></th>\n",
       "    </tr>\n",
       "  </thead>\n",
       "  <tbody>\n",
       "    <tr>\n",
       "      <th>0</th>\n",
       "      <td>0</td>\n",
       "    </tr>\n",
       "    <tr>\n",
       "      <th>1</th>\n",
       "      <td>825165</td>\n",
       "    </tr>\n",
       "    <tr>\n",
       "      <th>2</th>\n",
       "      <td>184295</td>\n",
       "    </tr>\n",
       "    <tr>\n",
       "      <th>3</th>\n",
       "      <td>98943</td>\n",
       "    </tr>\n",
       "    <tr>\n",
       "      <th>4</th>\n",
       "      <td>82624</td>\n",
       "    </tr>\n",
       "    <tr>\n",
       "      <th>5</th>\n",
       "      <td>86775</td>\n",
       "    </tr>\n",
       "  </tbody>\n",
       "</table>\n",
       "</div>"
      ],
      "text/plain": [
       "        #ThumbsUp\n",
       "Rating           \n",
       "0               0\n",
       "1          825165\n",
       "2          184295\n",
       "3           98943\n",
       "4           82624\n",
       "5           86775"
      ]
     },
     "metadata": {},
     "output_type": "display_data"
    },
    {
     "data": {
      "image/png": "[encoded data removed]",
      "text/plain": [
       "<Figure size 432x288 with 1 Axes>"
      ]
     },
     "metadata": {
      "needs_background": "light"
     },
     "output_type": "display_data"
    },
    {
     "name": "stdout",
     "output_type": "stream",
     "text": [
      "Les commentaires ayant reçu une note de 1 sont les plus souvent upvotés et de loin.\n"
     ]
    }
   ],
   "source": [
    "#Dataframe contenant la somme des thumbs up pour chaque note attribuée aux commentaires\n",
    "comp_rating_thumbs_up = df.groupby(\"Rating\").sum()\n",
    "display(comp_rating_thumbs_up)\n",
    "\n",
    "#On reset l'index car rating a été considéré comme l'index:\n",
    "comp_rating_thumbs_up.reset_index().plot.bar(x=\"Rating\", y=\"#ThumbsUp\", width=0.9, color=\"g\")\n",
    "\n",
    "plt.xlabel(\"Notes\")\n",
    "plt.ylabel(\"#ThumbsUp\")\n",
    "plt.title(\"#ThumbsUp en fonction de la note.\");\n",
    "plt.show();\n",
    "\n",
    "print(\"Les commentaires ayant reçu une note de 1 sont les plus souvent upvotés et de loin.\")"
   ]
  },
  {
   "cell_type": "code",
   "execution_count": 42,
   "metadata": {},
   "outputs": [
    {
     "name": "stdout",
     "output_type": "stream",
     "text": [
      "Tinder est l'application la plus notée\n"
     ]
    },
    {
     "data": {
      "image/png": "[encoded data removed]",
      "text/plain": [
       "<Figure size 432x288 with 1 Axes>"
      ]
     },
     "metadata": {
      "needs_background": "light"
     },
     "output_type": "display_data"
    }
   ],
   "source": [
    "plt.hist(df.App)\n",
    "print(\"Tinder est l'application la plus notée\")"
   ]
  },
  {
   "cell_type": "code",
   "execution_count": 45,
   "metadata": {},
   "outputs": [
    {
     "data": {
      "text/html": [
       "<div>\n",
       "<style scoped>\n",
       "    .dataframe tbody tr th:only-of-type {\n",
       "        vertical-align: middle;\n",
       "    }\n",
       "\n",
       "    .dataframe tbody tr th {\n",
       "        vertical-align: top;\n",
       "    }\n",
       "\n",
       "    .dataframe thead tr th {\n",
       "        text-align: left;\n",
       "    }\n",
       "\n",
       "    .dataframe thead tr:last-of-type th {\n",
       "        text-align: right;\n",
       "    }\n",
       "</style>\n",
       "<table border=\"1\" class=\"dataframe\">\n",
       "  <thead>\n",
       "    <tr>\n",
       "      <th></th>\n",
       "      <th colspan=\"4\" halign=\"left\">Rating</th>\n",
       "    </tr>\n",
       "    <tr>\n",
       "      <th></th>\n",
       "      <th>min</th>\n",
       "      <th>max</th>\n",
       "      <th>mean</th>\n",
       "      <th>median</th>\n",
       "    </tr>\n",
       "    <tr>\n",
       "      <th>App</th>\n",
       "      <th></th>\n",
       "      <th></th>\n",
       "      <th></th>\n",
       "      <th></th>\n",
       "    </tr>\n",
       "  </thead>\n",
       "  <tbody>\n",
       "    <tr>\n",
       "      <th>Bumble</th>\n",
       "      <td>1</td>\n",
       "      <td>5</td>\n",
       "      <td>2.832252</td>\n",
       "      <td>3.0</td>\n",
       "    </tr>\n",
       "    <tr>\n",
       "      <th>Hinge</th>\n",
       "      <td>1</td>\n",
       "      <td>5</td>\n",
       "      <td>3.180895</td>\n",
       "      <td>4.0</td>\n",
       "    </tr>\n",
       "    <tr>\n",
       "      <th>Tinder</th>\n",
       "      <td>0</td>\n",
       "      <td>5</td>\n",
       "      <td>3.007847</td>\n",
       "      <td>3.0</td>\n",
       "    </tr>\n",
       "  </tbody>\n",
       "</table>\n",
       "</div>"
      ],
      "text/plain": [
       "       Rating                     \n",
       "          min max      mean median\n",
       "App                               \n",
       "Bumble      1   5  2.832252    3.0\n",
       "Hinge       1   5  3.180895    4.0\n",
       "Tinder      0   5  3.007847    3.0"
      ]
     },
     "metadata": {},
     "output_type": "display_data"
    },
    {
     "name": "stdout",
     "output_type": "stream",
     "text": [
      "Hinge est l'application qui possède le plus de notes positives. Néanmoins c'est aussi celle qui a le moins de reviews.\n",
      "Avec un si petit delta dans la note moyenne associée aux apps, la note moyenne de Tinder, ayant 4 fois plus de reviews que Hinge est plus fiable.\n"
     ]
    }
   ],
   "source": [
    "display(df.groupby(\"App\").agg({\"Rating\": [min, max, np.mean, np.median]}))\n",
    "print(\"Hinge est l'application qui possède le plus de notes positives. Néanmoins c'est aussi celle qui a le moins de reviews.\")\n",
    "print(\"Avec un si petit delta dans la note moyenne associée aux apps, la note moyenne de Tinder, ayant 4 fois plus de reviews que Hinge est plus fiable.\")"
   ]
  },
  {
   "cell_type": "markdown",
   "metadata": {},
   "source": [
    "### Séparation des variables et balance des données\n",
    "\n",
    "On sépare ici le jeu de données en 2 afin d'extraire les variables explicatives de la variable cible. \n",
    "\n",
    "Notre variable explicative est ici \"Review\" et la variable cible est \"Rating\""
   ]
  },
  {
   "cell_type": "code",
   "execution_count": 7,
   "metadata": {},
   "outputs": [
    {
     "name": "stdout",
     "output_type": "stream",
     "text": [
      "On est surtout intéressés par les Reviews et la note associée donc on drop les colonnes qui ne nous servent pas.\n"
     ]
    }
   ],
   "source": [
    "print(\"On est surtout intéressés par les Reviews et la note associée donc on drop les colonnes qui ne nous servent pas.\")\n",
    "#X = df.drop([\"Rating\", \"#ThumbsUp\", \"Name\", \"Date&Time\", \"App\" ], axis = 1)\n",
    "X = df.Review\n",
    "y = df.Rating"
   ]
  },
  {
   "cell_type": "markdown",
   "metadata": {},
   "source": [
    "Nous avons besoin de savoir si les données sont bien réparties entre les différents \"Rating\" afin d'avoir un jeu de donnée bien balancé:"
   ]
  },
  {
   "cell_type": "code",
   "execution_count": 8,
   "metadata": {},
   "outputs": [
    {
     "data": {
      "image/png": "[encoded data removed]",
      "text/plain": [
       "<Figure size 432x288 with 1 Axes>"
      ]
     },
     "metadata": {
      "needs_background": "light"
     },
     "output_type": "display_data"
    }
   ],
   "source": [
    "plt.hist(y, density=True, bins=6, rwidth=0.8, color=\"orange\")\n",
    "plt.xlabel(\"Rating\")\n",
    "plt.ylabel(\"Fréquences\")\n",
    "plt.title(\"Fréquence d'apparition des notes dans le dataset\")\n",
    "plt.show();\n",
    "#print(\"On a un dataset assez inégal on va donc le retravailler pour ne plus avoir une surpopulation de 1 et de 5\")"
   ]
  },
  {
   "cell_type": "markdown",
   "metadata": {},
   "source": [
    "@TODO: Balancer le dataset"
   ]
  }
 ],
 "metadata": {
  "interpreter": {
   "hash": "86b2f5735f87b0fa134201e8b0fc427822a6ff5f711a326dc96a428b071085e9"
  },
  "kernelspec": {
   "display_name": "Python 3.9.7 ('datascience')",
   "language": "python",
   "name": "python3"
  },
  "language_info": {
   "codemirror_mode": {
    "name": "ipython",
    "version": 3
   },
   "file_extension": ".py",
   "mimetype": "text/x-python",
   "name": "python",
   "nbconvert_exporter": "python",
   "pygments_lexer": "ipython3",
   "version": "3.9.7"
  },
  "orig_nbformat": 4
 },
 "nbformat": 4,
 "nbformat_minor": 2
}
