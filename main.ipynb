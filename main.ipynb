{
 "cells": [
  {
   "cell_type": "code",
   "execution_count": 98,
   "metadata": {},
   "outputs": [],
   "source": [
    "import pandas as pd\n",
    "import numpy as np\n",
    "import matplotlib.pyplot as plt\n",
    "%matplotlib inline\n"
   ]
  },
  {
   "cell_type": "code",
   "execution_count": 107,
   "metadata": {},
   "outputs": [
    {
     "name": "stdout",
     "output_type": "stream",
     "text": [
      "Name          True\n",
      "Review        True\n",
      "Rating       False\n",
      "#ThumbsUp    False\n",
      "Date&Time    False\n",
      "App          False\n",
      "dtype: bool\n",
      "Name et Review contiennent des NaNs on va donc les nettoyer\n"
     ]
    }
   ],
   "source": [
    "df = pd.read_csv(\"./DatingAppReviewsDataset.csv\", index_col=0)\n",
    "print(df.isna().any())\n",
    "\n",
    "print(\"Name et Review contiennent des NaNs on va donc les nettoyer\")"
   ]
  },
  {
   "cell_type": "code",
   "execution_count": 109,
   "metadata": {},
   "outputs": [
    {
     "name": "stdout",
     "output_type": "stream",
     "text": [
      "Name         False\n",
      "Review       False\n",
      "Rating       False\n",
      "#ThumbsUp    False\n",
      "Date&Time    False\n",
      "App          False\n",
      "dtype: bool\n",
      "On n'a plus aucun NaNs et on s'est débarrasé des rows ayant des reviews vides.\n"
     ]
    }
   ],
   "source": [
    "#On supprime les rows si Review, Rating ou App sont des nan. Des lignes avec #ThumbsUp,\tDate&Time et Name étant des NAN existent \n",
    "# mais leur impact est limité dans notre analyse \n",
    "\n",
    "df.dropna(inplace=True, subset=[\"Review\", \"Rating\", \"App\"])\n",
    "df[\"Name\"].fillna(\"Not available\", inplace=True)\n",
    "\n",
    "print(df.isna().any())\n",
    "print(\"On n'a plus aucun NaNs et on s'est débarrasé des rows ayant des reviews vides.\")"
   ]
  },
  {
   "cell_type": "code",
   "execution_count": null,
   "metadata": {},
   "outputs": [],
   "source": []
  }
 ],
 "metadata": {
  "interpreter": {
   "hash": "86b2f5735f87b0fa134201e8b0fc427822a6ff5f711a326dc96a428b071085e9"
  },
  "kernelspec": {
   "display_name": "Python 3.9.7 ('datascience')",
   "language": "python",
   "name": "python3"
  },
  "language_info": {
   "codemirror_mode": {
    "name": "ipython",
    "version": 3
   },
   "file_extension": ".py",
   "mimetype": "text/x-python",
   "name": "python",
   "nbconvert_exporter": "python",
   "pygments_lexer": "ipython3",
   "version": "3.9.7"
  },
  "orig_nbformat": 4
 },
 "nbformat": 4,
 "nbformat_minor": 2
}
