{
 "cells": [
  {
   "cell_type": "markdown",
   "metadata": {},
   "source": [
    "# NLP\n",
    "\n",
    "Analyse des reviews que des utilisateurs laissent sur les apps de rencontre hébergées sur les App stores.\n",
    "Le dataset dont nous allons nous servir est issu de kaggle:  https://www.kaggle.com/sidharthkriplani/datingappreviews."
   ]
  },
  {
   "cell_type": "markdown",
   "metadata": {},
   "source": [
    "## Import des librairies\n",
    "\n",
    "Nous aurons besoin de scikit-learn, pandas, numpy et ntlk la librairie d'analyse de langage naturel.\n"
   ]
  },
  {
   "cell_type": "code",
   "execution_count": 220,
   "metadata": {},
   "outputs": [
    {
     "name": "stderr",
     "output_type": "stream",
     "text": [
      "[nltk_data] Downloading package punkt to\n",
      "[nltk_data]     C:\\Users\\simon\\AppData\\Roaming\\nltk_data...\n",
      "[nltk_data]   Package punkt is already up-to-date!\n",
      "[nltk_data] Downloading package averaged_perceptron_tagger to\n",
      "[nltk_data]     C:\\Users\\simon\\AppData\\Roaming\\nltk_data...\n",
      "[nltk_data]   Package averaged_perceptron_tagger is already up-to-\n",
      "[nltk_data]       date!\n",
      "[nltk_data] Downloading package wordnet to\n",
      "[nltk_data]     C:\\Users\\simon\\AppData\\Roaming\\nltk_data...\n",
      "[nltk_data]   Package wordnet is already up-to-date!\n",
      "[nltk_data] Downloading package stopwords to\n",
      "[nltk_data]     C:\\Users\\simon\\AppData\\Roaming\\nltk_data...\n",
      "[nltk_data]   Package stopwords is already up-to-date!\n",
      "[nltk_data] Downloading package omw-1.4 to\n",
      "[nltk_data]     C:\\Users\\simon\\AppData\\Roaming\\nltk_data...\n",
      "[nltk_data]   Package omw-1.4 is already up-to-date!\n"
     ]
    }
   ],
   "source": [
    "\n",
    "import pandas as pd\n",
    "import numpy as np\n",
    "import matplotlib.pyplot as plt\n",
    "\n",
    "%matplotlib inline\n",
    "from IPython.display import display\n",
    "\n",
    "#NLP libs\n",
    "import re, string\n",
    "import nltk\n",
    "from nltk.corpus import stopwords\n",
    "from nltk.tokenize import word_tokenize\n",
    "from nltk.stem import SnowballStemmer\n",
    "from nltk.corpus import wordnet\n",
    "from nltk.stem import WordNetLemmatizer\n",
    "\n",
    "nltk.download('punkt')\n",
    "nltk.download('averaged_perceptron_tagger')\n",
    "nltk.download('wordnet')\n",
    "nltk.download('stopwords')\n",
    "nltk.download('omw-1.4')\n",
    "\n",
    "#for model-building\n",
    "from sklearn.model_selection import train_test_split\n",
    "from sklearn.linear_model import LogisticRegression\n",
    "from sklearn.naive_bayes import MultinomialNB\n",
    "from sklearn.metrics import classification_report, f1_score, accuracy_score, confusion_matrix\n",
    "from sklearn.metrics import roc_curve, auc, roc_auc_score\n",
    "\n",
    "# bag of words\n",
    "from sklearn.feature_extraction.text import TfidfVectorizer\n",
    "from sklearn.feature_extraction.text import CountVectorizer\n",
    "\n",
    "#for word embedding\n",
    "import gensim\n",
    "from gensim.models import Word2Vec\n"
   ]
  },
  {
   "cell_type": "markdown",
   "metadata": {},
   "source": [
    "## Préparation des données\n",
    "\n",
    "Le dataset n'est pas encore propre et il faut le traiter avant toute chose."
   ]
  },
  {
   "cell_type": "markdown",
   "metadata": {},
   "source": [
    "### Nettoyage\n",
    "\n",
    "- Gérer les NaNs (les remplacer par des valeurs qui ont du sens ou tout simplement supprimer la ligne pour les données critiques)\n",
    "- S'assurer d'avoir un index unique pour chaque ligne\n",
    "- "
   ]
  },
  {
   "cell_type": "code",
   "execution_count": 221,
   "metadata": {},
   "outputs": [
    {
     "data": {
      "text/html": [
       "<div>\n",
       "<style scoped>\n",
       "    .dataframe tbody tr th:only-of-type {\n",
       "        vertical-align: middle;\n",
       "    }\n",
       "\n",
       "    .dataframe tbody tr th {\n",
       "        vertical-align: top;\n",
       "    }\n",
       "\n",
       "    .dataframe thead th {\n",
       "        text-align: right;\n",
       "    }\n",
       "</style>\n",
       "<table border=\"1\" class=\"dataframe\">\n",
       "  <thead>\n",
       "    <tr style=\"text-align: right;\">\n",
       "      <th></th>\n",
       "      <th>Name</th>\n",
       "      <th>Review</th>\n",
       "      <th>Rating</th>\n",
       "      <th>#ThumbsUp</th>\n",
       "      <th>Date&amp;Time</th>\n",
       "      <th>App</th>\n",
       "    </tr>\n",
       "  </thead>\n",
       "  <tbody>\n",
       "    <tr>\n",
       "      <th>0</th>\n",
       "      <td>linah sibanda</td>\n",
       "      <td>On this app i cant find a partner</td>\n",
       "      <td>5</td>\n",
       "      <td>0</td>\n",
       "      <td>18-02-2022 01:19</td>\n",
       "      <td>Tinder</td>\n",
       "    </tr>\n",
       "    <tr>\n",
       "      <th>1</th>\n",
       "      <td>Norman Johnson</td>\n",
       "      <td>Tinder would be so much better if we could spe...</td>\n",
       "      <td>3</td>\n",
       "      <td>0</td>\n",
       "      <td>18-02-2022 01:16</td>\n",
       "      <td>Tinder</td>\n",
       "    </tr>\n",
       "    <tr>\n",
       "      <th>2</th>\n",
       "      <td>David Hume</td>\n",
       "      <td>Still doesn't correctly notify matches or mess...</td>\n",
       "      <td>1</td>\n",
       "      <td>0</td>\n",
       "      <td>18-02-2022 01:11</td>\n",
       "      <td>Tinder</td>\n",
       "    </tr>\n",
       "    <tr>\n",
       "      <th>3</th>\n",
       "      <td>Last 1 Standing</td>\n",
       "      <td>Got banned because I updated my bio to say \"I ...</td>\n",
       "      <td>2</td>\n",
       "      <td>0</td>\n",
       "      <td>18-02-2022 01:11</td>\n",
       "      <td>Tinder</td>\n",
       "    </tr>\n",
       "    <tr>\n",
       "      <th>4</th>\n",
       "      <td>Arthur Magamedov</td>\n",
       "      <td>Love it!</td>\n",
       "      <td>5</td>\n",
       "      <td>0</td>\n",
       "      <td>18-02-2022 01:06</td>\n",
       "      <td>Tinder</td>\n",
       "    </tr>\n",
       "  </tbody>\n",
       "</table>\n",
       "</div>"
      ],
      "text/plain": [
       "               Name                                             Review  \\\n",
       "0     linah sibanda                  On this app i cant find a partner   \n",
       "1    Norman Johnson  Tinder would be so much better if we could spe...   \n",
       "2        David Hume  Still doesn't correctly notify matches or mess...   \n",
       "3   Last 1 Standing  Got banned because I updated my bio to say \"I ...   \n",
       "4  Arthur Magamedov                                           Love it!   \n",
       "\n",
       "   Rating  #ThumbsUp         Date&Time     App  \n",
       "0       5          0  18-02-2022 01:19  Tinder  \n",
       "1       3          0  18-02-2022 01:16  Tinder  \n",
       "2       1          0  18-02-2022 01:11  Tinder  \n",
       "3       2          0  18-02-2022 01:11  Tinder  \n",
       "4       5          0  18-02-2022 01:06  Tinder  "
      ]
     },
     "execution_count": 221,
     "metadata": {},
     "output_type": "execute_result"
    }
   ],
   "source": [
    "df = pd.read_csv(\"./DatingAppReviewsDataset.csv\", index_col=0)\n",
    "df.head()"
   ]
  },
  {
   "cell_type": "code",
   "execution_count": 222,
   "metadata": {},
   "outputs": [
    {
     "name": "stdout",
     "output_type": "stream",
     "text": [
      "On vérifie que les index sont bien des valeurs uniques:  False\n",
      "On va donc réécrire cet index.\n",
      "On va regarder si des NaNs existent dans le dataset\n",
      "Name          True\n",
      "Review        True\n",
      "Rating       False\n",
      "#ThumbsUp    False\n",
      "Date&Time    False\n",
      "App          False\n",
      "dtype: bool\n",
      "Name et Review contiennent des NaNs on va donc les nettoyer\n"
     ]
    }
   ],
   "source": [
    "print(\"On vérifie que les index sont bien des valeurs uniques: \", df.index.is_unique)\n",
    "\n",
    "print(\"On va donc réécrire cet index.\")\n",
    "df = df.reset_index()\n",
    "df = df.drop(\"index\", axis = 1)\n",
    "\n",
    "print(\"On va regarder si des NaNs existent dans le dataset\")\n",
    "print(df.isna().any())\n",
    "print(\"Name et Review contiennent des NaNs on va donc les nettoyer\")"
   ]
  },
  {
   "cell_type": "code",
   "execution_count": 223,
   "metadata": {},
   "outputs": [
    {
     "name": "stdout",
     "output_type": "stream",
     "text": [
      "Name         False\n",
      "Review       False\n",
      "Rating       False\n",
      "#ThumbsUp    False\n",
      "Date&Time    False\n",
      "App          False\n",
      "dtype: bool\n",
      "On n'a plus aucun NaNs et on s'est débarrasé des rows ayant des reviews vides.\n"
     ]
    }
   ],
   "source": [
    "#On supprime les rows si Review, Rating ou App sont des nan. Des lignes avec #ThumbsUp,\tDate&Time et Name étant des NAN existent \n",
    "# mais leur impact est limité dans notre analyse \n",
    "\n",
    "df.dropna(inplace=True, subset=[\"Review\", \"Rating\", \"App\"])\n",
    "df[\"Name\"].fillna(\"Not available\", inplace=True)\n",
    "\n",
    "print(df.isna().any())\n",
    "print(\"On n'a plus aucun NaNs et on s'est débarrasé des rows ayant des reviews vides.\")"
   ]
  },
  {
   "cell_type": "markdown",
   "metadata": {},
   "source": [
    "### Exploration des données\n",
    "\n",
    "Ici on va tracer des courbes en essayant de faire parler les données. Il s'agit d'une analyse exploratoire."
   ]
  },
  {
   "cell_type": "code",
   "execution_count": 224,
   "metadata": {},
   "outputs": [
    {
     "data": {
      "text/html": [
       "<div>\n",
       "<style scoped>\n",
       "    .dataframe tbody tr th:only-of-type {\n",
       "        vertical-align: middle;\n",
       "    }\n",
       "\n",
       "    .dataframe tbody tr th {\n",
       "        vertical-align: top;\n",
       "    }\n",
       "\n",
       "    .dataframe thead th {\n",
       "        text-align: right;\n",
       "    }\n",
       "</style>\n",
       "<table border=\"1\" class=\"dataframe\">\n",
       "  <thead>\n",
       "    <tr style=\"text-align: right;\">\n",
       "      <th></th>\n",
       "      <th>#ThumbsUp</th>\n",
       "    </tr>\n",
       "    <tr>\n",
       "      <th>Rating</th>\n",
       "      <th></th>\n",
       "    </tr>\n",
       "  </thead>\n",
       "  <tbody>\n",
       "    <tr>\n",
       "      <th>0</th>\n",
       "      <td>0</td>\n",
       "    </tr>\n",
       "    <tr>\n",
       "      <th>1</th>\n",
       "      <td>825165</td>\n",
       "    </tr>\n",
       "    <tr>\n",
       "      <th>2</th>\n",
       "      <td>184295</td>\n",
       "    </tr>\n",
       "    <tr>\n",
       "      <th>3</th>\n",
       "      <td>98943</td>\n",
       "    </tr>\n",
       "    <tr>\n",
       "      <th>4</th>\n",
       "      <td>82624</td>\n",
       "    </tr>\n",
       "    <tr>\n",
       "      <th>5</th>\n",
       "      <td>86775</td>\n",
       "    </tr>\n",
       "  </tbody>\n",
       "</table>\n",
       "</div>"
      ],
      "text/plain": [
       "        #ThumbsUp\n",
       "Rating           \n",
       "0               0\n",
       "1          825165\n",
       "2          184295\n",
       "3           98943\n",
       "4           82624\n",
       "5           86775"
      ]
     },
     "metadata": {},
     "output_type": "display_data"
    },
    {
     "data": {
      "image/png": "[encoded data removed]",
      "text/plain": [
       "<Figure size 432x288 with 1 Axes>"
      ]
     },
     "metadata": {
      "needs_background": "light"
     },
     "output_type": "display_data"
    },
    {
     "name": "stdout",
     "output_type": "stream",
     "text": [
      "Les commentaires ayant reçu une note de 1 sont les plus souvent upvotés et de loin.\n"
     ]
    }
   ],
   "source": [
    "#Dataframe contenant la somme des thumbs up pour chaque note attribuée aux commentaires\n",
    "comp_rating_thumbs_up = df.groupby(\"Rating\").sum()\n",
    "display(comp_rating_thumbs_up)\n",
    "\n",
    "#On reset l'index car rating a été considéré comme l'index:\n",
    "comp_rating_thumbs_up.reset_index().plot.bar(x=\"Rating\", y=\"#ThumbsUp\", width=0.9, color=\"g\")\n",
    "\n",
    "plt.xlabel(\"Notes\")\n",
    "plt.ylabel(\"#ThumbsUp\")\n",
    "plt.title(\"#ThumbsUp en fonction de la note.\");\n",
    "plt.show();\n",
    "\n",
    "print(\"Les commentaires ayant reçu une note de 1 sont les plus souvent upvotés et de loin.\")"
   ]
  },
  {
   "cell_type": "code",
   "execution_count": 225,
   "metadata": {},
   "outputs": [
    {
     "data": {
      "image/png": "[encoded data removed]",
      "text/plain": [
       "<Figure size 400x300 with 1 Axes>"
      ]
     },
     "metadata": {
      "needs_background": "light"
     },
     "output_type": "display_data"
    },
    {
     "name": "stdout",
     "output_type": "stream",
     "text": [
      "Tinder est l'application la plus notée\n"
     ]
    }
   ],
   "source": [
    "plt.figure(dpi=100, figsize=(4,3))\n",
    "plt.hist(df.App, color=\"blue\", stacked=True)\n",
    "plt.xlabel(\"Applications\")\n",
    "plt.ylabel(\"Number of reviews per app\")\n",
    "plt.title(\"Number of reviews for each app\")\n",
    "plt.show();\n",
    "print(\"Tinder est l'application la plus notée\")\n"
   ]
  },
  {
   "cell_type": "code",
   "execution_count": 226,
   "metadata": {},
   "outputs": [
    {
     "data": {
      "text/html": [
       "<div>\n",
       "<style scoped>\n",
       "    .dataframe tbody tr th:only-of-type {\n",
       "        vertical-align: middle;\n",
       "    }\n",
       "\n",
       "    .dataframe tbody tr th {\n",
       "        vertical-align: top;\n",
       "    }\n",
       "\n",
       "    .dataframe thead tr th {\n",
       "        text-align: left;\n",
       "    }\n",
       "\n",
       "    .dataframe thead tr:last-of-type th {\n",
       "        text-align: right;\n",
       "    }\n",
       "</style>\n",
       "<table border=\"1\" class=\"dataframe\">\n",
       "  <thead>\n",
       "    <tr>\n",
       "      <th></th>\n",
       "      <th colspan=\"4\" halign=\"left\">Rating</th>\n",
       "    </tr>\n",
       "    <tr>\n",
       "      <th></th>\n",
       "      <th>min</th>\n",
       "      <th>max</th>\n",
       "      <th>mean</th>\n",
       "      <th>median</th>\n",
       "    </tr>\n",
       "    <tr>\n",
       "      <th>App</th>\n",
       "      <th></th>\n",
       "      <th></th>\n",
       "      <th></th>\n",
       "      <th></th>\n",
       "    </tr>\n",
       "  </thead>\n",
       "  <tbody>\n",
       "    <tr>\n",
       "      <th>Bumble</th>\n",
       "      <td>1</td>\n",
       "      <td>5</td>\n",
       "      <td>2.832252</td>\n",
       "      <td>3.0</td>\n",
       "    </tr>\n",
       "    <tr>\n",
       "      <th>Hinge</th>\n",
       "      <td>1</td>\n",
       "      <td>5</td>\n",
       "      <td>3.180895</td>\n",
       "      <td>4.0</td>\n",
       "    </tr>\n",
       "    <tr>\n",
       "      <th>Tinder</th>\n",
       "      <td>0</td>\n",
       "      <td>5</td>\n",
       "      <td>3.007847</td>\n",
       "      <td>3.0</td>\n",
       "    </tr>\n",
       "  </tbody>\n",
       "</table>\n",
       "</div>"
      ],
      "text/plain": [
       "       Rating                     \n",
       "          min max      mean median\n",
       "App                               \n",
       "Bumble      1   5  2.832252    3.0\n",
       "Hinge       1   5  3.180895    4.0\n",
       "Tinder      0   5  3.007847    3.0"
      ]
     },
     "metadata": {},
     "output_type": "display_data"
    },
    {
     "name": "stdout",
     "output_type": "stream",
     "text": [
      "Hinge est l'application qui possède le la note moyenne la plus élevée. Néanmoins c'est aussi celle qui a le moins de reviews.\n",
      "Avec un si petit delta dans la note moyenne associée aux apps, la note moyenne de Tinder, ayant 4 fois plus de reviews que Hinge est plus fiable.\n",
      "\n",
      "\n",
      "On affiche les notes moyennes des différentes applications:\n"
     ]
    },
    {
     "data": {
      "text/html": [
       "<div>\n",
       "<style scoped>\n",
       "    .dataframe tbody tr th:only-of-type {\n",
       "        vertical-align: middle;\n",
       "    }\n",
       "\n",
       "    .dataframe tbody tr th {\n",
       "        vertical-align: top;\n",
       "    }\n",
       "\n",
       "    .dataframe thead th {\n",
       "        text-align: right;\n",
       "    }\n",
       "</style>\n",
       "<table border=\"1\" class=\"dataframe\">\n",
       "  <thead>\n",
       "    <tr style=\"text-align: right;\">\n",
       "      <th>App</th>\n",
       "      <th>Bumble</th>\n",
       "      <th>Hinge</th>\n",
       "      <th>Tinder</th>\n",
       "    </tr>\n",
       "  </thead>\n",
       "  <tbody>\n",
       "    <tr>\n",
       "      <th>Rating</th>\n",
       "      <td>2.832252</td>\n",
       "      <td>3.180895</td>\n",
       "      <td>3.007847</td>\n",
       "    </tr>\n",
       "  </tbody>\n",
       "</table>\n",
       "</div>"
      ],
      "text/plain": [
       "App       Bumble     Hinge    Tinder\n",
       "Rating  2.832252  3.180895  3.007847"
      ]
     },
     "metadata": {},
     "output_type": "display_data"
    },
    {
     "name": "stdout",
     "output_type": "stream",
     "text": [
      "On peut voir ici que l'application la mieux notée est Hinge car sa note moyenne est 3.18/5\n"
     ]
    },
    {
     "data": {
      "image/png": "[encoded data removed]",
      "text/plain": [
       "<Figure size 432x288 with 1 Axes>"
      ]
     },
     "metadata": {
      "needs_background": "light"
     },
     "output_type": "display_data"
    }
   ],
   "source": [
    "display(df.groupby(\"App\").agg({\"Rating\": [min, max, np.mean, np.median]}))\n",
    "print(\"Hinge est l'application qui possède le la note moyenne la plus élevée. Néanmoins c'est aussi celle qui a le moins de reviews.\")\n",
    "print(\"Avec un si petit delta dans la note moyenne associée aux apps, la note moyenne de Tinder, ayant 4 fois plus de reviews que Hinge est plus fiable.\")\n",
    "\n",
    "print(\"\\n\\nOn affiche les notes moyennes des différentes applications:\")\n",
    "mean_rating_df = df.groupby(\"App\").agg({\"Rating\": np.mean}).T\n",
    "display(mean_rating_df)\n",
    "\n",
    "mean_rating_df.plot.bar(rot=0)\n",
    "\n",
    "plt.title(\"Mean rating of the different apps\")\n",
    "plt.xlabel(\"Apps\")\n",
    "plt.ylabel(\"Mean rating\")\n",
    "\n",
    "print(\"On peut voir ici que l'application la mieux notée est Hinge car sa note moyenne est 3.18/5\")"
   ]
  },
  {
   "cell_type": "markdown",
   "metadata": {},
   "source": [
    "On regarde quelle est la répartition des notes dans le jeu de données"
   ]
  },
  {
   "cell_type": "code",
   "execution_count": 227,
   "metadata": {},
   "outputs": [
    {
     "data": {
      "image/png": "[encoded data removed]",
      "text/plain": [
       "<Figure size 432x288 with 1 Axes>"
      ]
     },
     "metadata": {
      "needs_background": "light"
     },
     "output_type": "display_data"
    },
    {
     "name": "stdout",
     "output_type": "stream",
     "text": [
      "On observe une prépondérence de 1 et de 5 ce qui portent à croire que les utilisateurs sont soit très contents soit très mécontents de l'application.\n"
     ]
    }
   ],
   "source": [
    "plt.hist(df.Rating, density=True, bins=6, rwidth=0.8, color=\"orange\")\n",
    "plt.xlabel(\"Rating\")\n",
    "plt.ylabel(\"Fréquences\")\n",
    "plt.title(\"Fréquence d'apparition des notes dans le dataset\")\n",
    "plt.show();\n",
    "\n",
    "print(\"On observe une prépondérence de 1 et de 5 ce qui portent à croire que les utilisateurs sont soit très contents soit très mécontents de l'application.\")"
   ]
  },
  {
   "cell_type": "markdown",
   "metadata": {},
   "source": [
    "### Pré-analyse du texte des reviews\n",
    "\n",
    "#### Nombre de mots\n",
    "On va analyser ici les nombres de mots de chaque review et en déduire des tendances quant à la verbosité des utilisateurs en fonction de la note associée à la review"
   ]
  },
  {
   "cell_type": "code",
   "execution_count": 228,
   "metadata": {},
   "outputs": [
    {
     "name": "stdout",
     "output_type": "stream",
     "text": [
      "Nombres de mots MOYENS pour les reviews ayant été notées:\n",
      "\t- Note 0/5: 19.0 mots.\n",
      "\t- Note 1/5: 24.0 mots.\n",
      "\t- Note 2/5: 27.0 mots.\n",
      "\t- Note 3/5: 20.0 mots.\n",
      "\t- Note 4/5: 13.0 mots.\n",
      "\t- Note 5/5: 7.0 mots.\n",
      "\n",
      "Nombres de mots MEDIANS pour les reviews ayant été notées:\n",
      "\t- Note 0/5: 19.0 mots.\n",
      "\t- Note 1/5: 16.0 mots.\n",
      "\t- Note 2/5: 20.0 mots.\n",
      "\t- Note 3/5: 13.0 mots.\n",
      "\t- Note 4/5: 7.0 mots.\n",
      "\t- Note 5/5: 3.0 mots.\n",
      "Les reviews notées 4/5 et 5/5 ont une sur-représentation de reviews possédant moins de 3 mots.\n"
     ]
    }
   ],
   "source": [
    "#On compte les mots et on ajoute une colonne contenant ce nombre dans le dataframe initial.\n",
    "df['word_count'] = df['Review'].apply(lambda x: len(str(x).split()))\n",
    "\n",
    "print(\"Nombres de mots MOYENS pour les reviews ayant été notées:\")\n",
    "print(\"\\t- Note 0/5:\", np.round(df[df['Rating']==0]['word_count'].mean()), \"mots.\") #rating 0\n",
    "print(\"\\t- Note 1/5:\", np.round(df[df['Rating']==1]['word_count'].mean()), \"mots.\") #rating 1\n",
    "print(\"\\t- Note 2/5:\", np.round(df[df['Rating']==2]['word_count'].mean()), \"mots.\") #rating 2\n",
    "print(\"\\t- Note 3/5:\", np.round(df[df['Rating']==3]['word_count'].mean()), \"mots.\") #rating 3\n",
    "print(\"\\t- Note 4/5:\", np.round(df[df['Rating']==4]['word_count'].mean()), \"mots.\") #rating 4\n",
    "print(\"\\t- Note 5/5:\", np.round(df[df['Rating']==5]['word_count'].mean()), \"mots.\") #rating 5\n",
    "\n",
    "\n",
    "print(\"\\nNombres de mots MEDIANS pour les reviews ayant été notées:\")\n",
    "print(\"\\t- Note 0/5:\", np.round(df[df['Rating']==0]['word_count'].median()), \"mots.\") #rating 0\n",
    "print(\"\\t- Note 1/5:\", np.round(df[df['Rating']==1]['word_count'].median()), \"mots.\") #rating 1\n",
    "print(\"\\t- Note 2/5:\", np.round(df[df['Rating']==2]['word_count'].median()), \"mots.\") #rating 2\n",
    "print(\"\\t- Note 3/5:\", np.round(df[df['Rating']==3]['word_count'].median()), \"mots.\") #rating 3\n",
    "print(\"\\t- Note 4/5:\", np.round(df[df['Rating']==4]['word_count'].median()), \"mots.\") #rating 4\n",
    "print(\"\\t- Note 5/5:\", np.round(df[df['Rating']==5]['word_count'].median()), \"mots.\") #rating 5\n",
    "print(\"Les reviews notées 4/5 et 5/5 ont une sur-représentation de reviews possédant moins de 3 mots.\")\n"
   ]
  },
  {
   "cell_type": "code",
   "execution_count": 229,
   "metadata": {},
   "outputs": [
    {
     "name": "stdout",
     "output_type": "stream",
     "text": [
      "On va représenter graphiquement ces observations:\n"
     ]
    },
    {
     "data": {
      "image/png": "[encoded data removed]",
      "text/plain": [
       "<Figure size 1440x360 with 6 Axes>"
      ]
     },
     "metadata": {
      "needs_background": "light"
     },
     "output_type": "display_data"
    },
    {
     "name": "stdout",
     "output_type": "stream",
     "text": [
      "On voit ici que le moyennes du nombre de mots pour chaque review sont lourdement impactées par les commentaires qui possèdent moins de 3 mots.\n"
     ]
    }
   ],
   "source": [
    "print(\"On va représenter graphiquement ces observations:\")\n",
    "\n",
    "fig,(ax1,ax2, ax3, ax4, ax5, ax6)=plt.subplots(1, 6, figsize=(20,5))\n",
    "\n",
    "train_words=df[df['Rating']==0]['word_count']\n",
    "ax1.hist(train_words,color='red')\n",
    "ax1.set_title('Rating = 0')\n",
    "\n",
    "train_words=df[df['Rating']==1]['word_count']\n",
    "ax2.hist(train_words,color='green')\n",
    "ax2.set_title('Rating = 1')\n",
    "\n",
    "train_words=df[df['Rating']==2]['word_count']\n",
    "ax3.hist(train_words,color='blue')\n",
    "ax3.set_title('Rating = 2')\n",
    "\n",
    "train_words=df[df['Rating']==3]['word_count']\n",
    "ax4.hist(train_words,color='orange')\n",
    "ax4.set_title('Rating = 3')\n",
    "\n",
    "train_words=df[df['Rating']==4]['word_count']\n",
    "ax5.hist(train_words,color='yellow')\n",
    "ax5.set_title('Rating = 4')\n",
    "\n",
    "train_words=df[df['Rating']==5]['word_count']\n",
    "ax6.hist(train_words,color='purple')\n",
    "ax6.set_title('Rating = 5')\n",
    "\n",
    "fig.suptitle(\"Répartition du nombre de mots dans chaque review en fonction du rating associé\")\n",
    "plt.show();\n",
    "\n",
    "print(\"On voit ici que le moyennes du nombre de mots pour chaque review sont lourdement impactées par les commentaires qui possèdent moins de 3 mots.\")\n"
   ]
  },
  {
   "cell_type": "markdown",
   "metadata": {},
   "source": [
    "#### Statistiques sur les personnes indiquant avoir trouvé l'amour \n",
    "\n",
    "Nous allons maintenant analyser en fonction des mots employés, la proportion de personnes qui ont trouvé l'amour dans tous les commentaires."
   ]
  },
  {
   "cell_type": "code",
   "execution_count": 230,
   "metadata": {},
   "outputs": [],
   "source": [
    "#Utilise une regex pour définir si un commentaire contient des mots indiquant avoir trouvé l'amour et/ou une relation.\n",
    "def checkLove(row):\n",
    "    match = re.search(r\"(met|found|married).{0,20}(husband|wife|love|partner|boyfriend|girlfriend)\", row, flags=re.I)\n",
    "    if match:\n",
    "        return match.group(0)"
   ]
  },
  {
   "cell_type": "code",
   "execution_count": 231,
   "metadata": {},
   "outputs": [
    {
     "name": "stdout",
     "output_type": "stream",
     "text": [
      "168                      found love\n",
      "1009      Met my current girlfriend\n",
      "1010                 found the love\n",
      "1026               met my boyfriend\n",
      "1392                  Found my wife\n",
      "                    ...            \n",
      "678419        found my life partner\n",
      "679342               found the love\n",
      "679650                 Met the love\n",
      "680111                   Met a love\n",
      "681071              found some love\n",
      "Name: found_love, Length: 2384, dtype: object\n",
      "Nombre de commentaires indiquant avoir trouvé l'amour:  2210\n",
      "En proportion du nombre total de commentaires, cela donne:  0.32 %\n"
     ]
    }
   ],
   "source": [
    "#On crée une nouvelle ligne contenant les reviews qui sont passées sous le filtre de regex checkLove\n",
    "df[\"found_love\"] = df.Review.apply(checkLove)\n",
    "print(df.found_love[df.found_love.notna()])\n",
    "\n",
    "#On considère comme faux positif: une review a passé le test de regex mais que la note donnée est inférieure à 4.\n",
    "nb_found_love = len(df[(df.found_love.notna()) & (df.Rating >= 4)])\n",
    "\n",
    "print(\"Nombre de commentaires indiquant avoir trouvé l'amour: \", nb_found_love)\n",
    "print(\"En proportion du nombre total de commentaires, cela donne: \", np.round(nb_found_love/len(df), 4)*100, \"%\")"
   ]
  },
  {
   "cell_type": "markdown",
   "metadata": {},
   "source": [
    "On va afficher ces observations sous forme de camembert"
   ]
  },
  {
   "cell_type": "code",
   "execution_count": 232,
   "metadata": {},
   "outputs": [
    {
     "name": "stdout",
     "output_type": "stream",
     "text": [
      "On voir ici que sur la totalité des commentaires, seulement 0.4% indiquent avoir trouvé l'amour sur la plateforme.\n"
     ]
    },
    {
     "data": {
      "image/png": "[encoded data removed]",
      "text/plain": [
       "<Figure size 432x288 with 1 Axes>"
      ]
     },
     "metadata": {},
     "output_type": "display_data"
    }
   ],
   "source": [
    "plt.gcf().set_facecolor('white')\n",
    "plt.pie(df.found_love.notna().value_counts(),\n",
    "    labels=[\"Did not find love\", \"Found love\"], \n",
    "    autopct='%1.1f%%', \n",
    "    startangle=30, \n",
    "    pctdistance=0.65, \n",
    "    radius = 2, \n",
    "    colors=[\"lightblue\", \"pink\"]\n",
    ");\n",
    "\n",
    "print(\"On voir ici que sur la totalité des commentaires, seulement 0.4% indiquent avoir trouvé l'amour sur la plateforme.\")"
   ]
  },
  {
   "cell_type": "markdown",
   "metadata": {},
   "source": [
    "Voyons maintenant quelle application a facilité le plus de relations amoureuses"
   ]
  },
  {
   "cell_type": "code",
   "execution_count": 233,
   "metadata": {},
   "outputs": [
    {
     "data": {
      "text/html": [
       "<div>\n",
       "<style scoped>\n",
       "    .dataframe tbody tr th:only-of-type {\n",
       "        vertical-align: middle;\n",
       "    }\n",
       "\n",
       "    .dataframe tbody tr th {\n",
       "        vertical-align: top;\n",
       "    }\n",
       "\n",
       "    .dataframe thead th {\n",
       "        text-align: right;\n",
       "    }\n",
       "</style>\n",
       "<table border=\"1\" class=\"dataframe\">\n",
       "  <thead>\n",
       "    <tr style=\"text-align: right;\">\n",
       "      <th></th>\n",
       "      <th>found_love</th>\n",
       "    </tr>\n",
       "    <tr>\n",
       "      <th>App</th>\n",
       "      <th></th>\n",
       "    </tr>\n",
       "  </thead>\n",
       "  <tbody>\n",
       "    <tr>\n",
       "      <th>Bumble</th>\n",
       "      <td>381</td>\n",
       "    </tr>\n",
       "    <tr>\n",
       "      <th>Hinge</th>\n",
       "      <td>174</td>\n",
       "    </tr>\n",
       "    <tr>\n",
       "      <th>Tinder</th>\n",
       "      <td>1655</td>\n",
       "    </tr>\n",
       "  </tbody>\n",
       "</table>\n",
       "</div>"
      ],
      "text/plain": [
       "        found_love\n",
       "App               \n",
       "Bumble         381\n",
       "Hinge          174\n",
       "Tinder        1655"
      ]
     },
     "metadata": {},
     "output_type": "display_data"
    },
    {
     "name": "stdout",
     "output_type": "stream",
     "text": [
      "On peut voir que Tinder est l'application où le plus de personnes ont trouvé l'amour.\n"
     ]
    }
   ],
   "source": [
    "display(df[(df.found_love.notna()) & (df.Rating >= 4)]\\\n",
    "    .groupby(\"App\")\\\n",
    "    .agg({\"found_love\": lambda x: x.count()})\n",
    ")\n",
    "\n",
    "print(\"On peut voir que Tinder est l'application où le plus de personnes ont trouvé l'amour.\")"
   ]
  },
  {
   "cell_type": "markdown",
   "metadata": {},
   "source": [
    "#### Nuage de mots\n",
    "\n",
    "L'objectif ici va être de voir si certains mots sont plus fréquemment employés que d'autres et ainsi construire un nuage de mots contenant ces observations"
   ]
  },
  {
   "cell_type": "markdown",
   "metadata": {},
   "source": [
    "### Analyse temporelle du jeu de données"
   ]
  },
  {
   "cell_type": "markdown",
   "metadata": {},
   "source": [
    "J'ai trouvé sur internet, une anlalyse pertinente à faire avec ce genre de jeu de données: la part de marché de chaque application en fonction des années, basée sur le nombre de review laissées, c'est ce que nous allons faire ici:"
   ]
  },
  {
   "cell_type": "code",
   "execution_count": 234,
   "metadata": {},
   "outputs": [],
   "source": [
    "#On change le format de la date fourni dans le dataframe initial\n",
    "df['Date&Time'] = pd.to_datetime(df['Date&Time'], format=\"%d-%m-%Y %H:%M\")\n",
    "\n",
    "bins=[2013,2015,2017,2019,2021,2022]\n",
    "labels=['2013-2014', '2015-2016', '2017-2018','2019-2020','2021-2022']\n",
    "df_gb_year = df.groupby(by=pd.cut(df['Date&Time'].dt.year, bins=bins, labels=labels))\n",
    "\n",
    "df_by_year = list(df_gb_year)\n",
    "subplot_titles = [item[0] for item in df_by_year]"
   ]
  },
  {
   "cell_type": "code",
   "execution_count": 235,
   "metadata": {},
   "outputs": [
    {
     "name": "stdout",
     "output_type": "stream",
     "text": [
      "On peut voir ici que Tinder a été le premier à rentrer sur le marché mais que Bumble et Hinge on petit à petit pris des parts de marché,Bumble ayant eu l'ascension la plus importante.\n",
      "Aujourd'hui Tinder reste encore l'application maîtresse avec plus de 55% de part de marché.\n"
     ]
    },
    {
     "data": {
      "image/png": "[encoded data removed]",
      "text/plain": [
       "<Figure size 1080x720 with 5 Axes>"
      ]
     },
     "metadata": {},
     "output_type": "display_data"
    }
   ],
   "source": [
    "plt.figure(figsize=(15, 10))\n",
    "\n",
    "#Couleurs basées sur la charte graphique des applications\n",
    "colors = ['#ea4a78', '#fec629', '#6c42ec']\n",
    "plt.suptitle(\"Répartition du nombre de reviews pour chaque application en fonction des années.\", fontsize=20)\n",
    "\n",
    "#Pour que cela soit visible sur un dark mode\n",
    "plt.gcf().set_facecolor('white')\n",
    "\n",
    "for index, item in enumerate(df_by_year):\n",
    "    position = int(\"23\" + str(index+1))\n",
    "    plt.subplot(position).set_title(item[0])\n",
    "    slice = item[1]['App'].value_counts().to_frame().reset_index().rename(columns={\"index\": \"App\", \"App\": \"#Reviews\"})\n",
    "    plt.pie(x = slice[\"#Reviews\"], labels=slice[\"App\"], autopct='%1.1f%%', startangle=30, pctdistance=0.65, radius = 1, colors=colors)\n",
    "\n",
    "\n",
    "print(\"On peut voir ici que Tinder a été le premier à rentrer sur le marché mais que Bumble et Hinge on petit à petit pris des parts de marché,\\\n",
    "Bumble ayant eu l'ascension la plus importante.\\n\\\n",
    "Aujourd'hui Tinder reste encore l'application maîtresse avec plus de 55% de part de marché.\")\n"
   ]
  },
  {
   "cell_type": "markdown",
   "metadata": {},
   "source": [
    "## NLP sur les Reviews\n",
    "### Pré-traitement du texte avant construction du modèle\n",
    "\n",
    "On va ici retirer les signes de ponctuation (virgules, points etc.), les espaces/tabulations inutiles, les caractères spéciaux, les URLs, les hashtags, les stop words pour avoir du texte prêt à être analysé par notre modèle."
   ]
  },
  {
   "cell_type": "code",
   "execution_count": 42,
   "metadata": {},
   "outputs": [],
   "source": [
    "#Fonctions de preprocessing de texte\n",
    "\n",
    "def preprocess_text(text):\n",
    "    text = text.lower()\n",
    "    text = text.strip()\n",
    "    text = re.compile('<.*?>').sub('', text) \n",
    "    text = re.compile('[%s]' % re.escape(string.punctuation)).sub(' ', text)  \n",
    "    text = re.sub('\\s+', ' ', text)  \n",
    "    text = re.sub(r'\\[[0-9]*\\]',' ',text) \n",
    "    text=re.sub(r'[^\\w\\s]', '', str(text).lower().strip())\n",
    "    text = re.sub(r'\\d',' ',text) \n",
    "    text = re.sub(r'\\s+',' ',text) \n",
    "    return text\n",
    "\n",
    "\n",
    "def remove_stopwords(string):\n",
    "    a = [i for i in string.split() if i not in stopwords.words('english')]\n",
    "    return ' '.join(a)\n",
    "\n",
    "\n",
    "wl = WordNetLemmatizer()\n",
    "def get_wordnet_pos(tag):\n",
    "    if tag.startswith('J'):\n",
    "        return wordnet.ADJ\n",
    "    elif tag.startswith('V'):\n",
    "        return wordnet.VERB\n",
    "    elif tag.startswith('N'):\n",
    "        return wordnet.NOUN\n",
    "    elif tag.startswith('R'):\n",
    "        return wordnet.ADV\n",
    "    else:\n",
    "        return wordnet.NOUN\n",
    "\n",
    "\n",
    "def lemmatizer(string):\n",
    "    word_pos_tags = nltk.pos_tag(word_tokenize(string))\n",
    "    a = [wl.lemmatize(tag[0], get_wordnet_pos(tag[1])) for idx, tag in enumerate(word_pos_tags)]\n",
    "    return \" \".join(a)"
   ]
  },
  {
   "cell_type": "code",
   "execution_count": 43,
   "metadata": {},
   "outputs": [
    {
     "name": "stdout",
     "output_type": "stream",
     "text": [
      "Test:\n",
      "Preprocessing:  Hi WhaT's<>*** .uP YoU &y- guys??? 😋 😋 ! \n",
      "=> hi guy\n"
     ]
    }
   ],
   "source": [
    "#Utilisation de toutes les fonctions d'utils pour pre traiter un texte\n",
    "def finalize_preprocess(string):\n",
    "    return lemmatizer(remove_stopwords(preprocess_text(string)))\n",
    "\n",
    "print(\"Test:\")\n",
    "txt = \"Hi WhaT's<>*** .uP YoU &y- guys??? 😋 😋 !\"\n",
    "print(\"Preprocessing: \", txt, \"\\n=>\", finalize_preprocess(\"Hi WhaT's<>*** .uP YoU &y- guys??? 😋 😋 !\"))"
   ]
  },
  {
   "cell_type": "code",
   "execution_count": 44,
   "metadata": {},
   "outputs": [],
   "source": [
    "#df['preprocessed_review'] = df['Review'].apply(lambda x: finalize_preprocess(x))\n",
    "\n",
    "#Saving to CSV to save up some processing time (the processing of all the text in the dataframe takes about 45mins......)\n",
    "#df.to_csv(\"./processed_data.csv\", sep=\",\")\n"
   ]
  },
  {
   "cell_type": "code",
   "execution_count": 45,
   "metadata": {},
   "outputs": [],
   "source": [
    "df = pd.read_csv(\"processed_data.csv\", sep=\",\", index_col=0)"
   ]
  },
  {
   "cell_type": "code",
   "execution_count": 46,
   "metadata": {},
   "outputs": [
    {
     "name": "stdout",
     "output_type": "stream",
     "text": [
      "preprocessed reviews that are NaNs:\n"
     ]
    },
    {
     "data": {
      "text/html": [
       "<div>\n",
       "<style scoped>\n",
       "    .dataframe tbody tr th:only-of-type {\n",
       "        vertical-align: middle;\n",
       "    }\n",
       "\n",
       "    .dataframe tbody tr th {\n",
       "        vertical-align: top;\n",
       "    }\n",
       "\n",
       "    .dataframe thead th {\n",
       "        text-align: right;\n",
       "    }\n",
       "</style>\n",
       "<table border=\"1\" class=\"dataframe\">\n",
       "  <thead>\n",
       "    <tr style=\"text-align: right;\">\n",
       "      <th></th>\n",
       "      <th>Name</th>\n",
       "      <th>Review</th>\n",
       "      <th>Rating</th>\n",
       "      <th>#ThumbsUp</th>\n",
       "      <th>Date&amp;Time</th>\n",
       "      <th>App</th>\n",
       "      <th>word_count</th>\n",
       "      <th>preprocessed_review</th>\n",
       "    </tr>\n",
       "  </thead>\n",
       "  <tbody>\n",
       "    <tr>\n",
       "      <th>13</th>\n",
       "      <td>ayush singh</td>\n",
       "      <td>😜😛</td>\n",
       "      <td>1</td>\n",
       "      <td>0</td>\n",
       "      <td>2022-02-18 00:00:00</td>\n",
       "      <td>Tinder</td>\n",
       "      <td>1</td>\n",
       "      <td>NaN</td>\n",
       "    </tr>\n",
       "    <tr>\n",
       "      <th>566</th>\n",
       "      <td>Upender Shekhawat</td>\n",
       "      <td>👍</td>\n",
       "      <td>5</td>\n",
       "      <td>0</td>\n",
       "      <td>2022-02-14 20:49:00</td>\n",
       "      <td>Tinder</td>\n",
       "      <td>1</td>\n",
       "      <td>NaN</td>\n",
       "    </tr>\n",
       "    <tr>\n",
       "      <th>616</th>\n",
       "      <td>Muyiwa Praiseworth</td>\n",
       "      <td>🔥🔥</td>\n",
       "      <td>5</td>\n",
       "      <td>0</td>\n",
       "      <td>2022-02-14 12:23:00</td>\n",
       "      <td>Tinder</td>\n",
       "      <td>1</td>\n",
       "      <td>NaN</td>\n",
       "    </tr>\n",
       "    <tr>\n",
       "      <th>631</th>\n",
       "      <td>Andy irish</td>\n",
       "      <td>🌻</td>\n",
       "      <td>5</td>\n",
       "      <td>0</td>\n",
       "      <td>2022-02-14 10:07:00</td>\n",
       "      <td>Tinder</td>\n",
       "      <td>1</td>\n",
       "      <td>NaN</td>\n",
       "    </tr>\n",
       "    <tr>\n",
       "      <th>747</th>\n",
       "      <td>Lijo Vitalis</td>\n",
       "      <td>😋</td>\n",
       "      <td>5</td>\n",
       "      <td>0</td>\n",
       "      <td>2022-02-13 22:20:00</td>\n",
       "      <td>Tinder</td>\n",
       "      <td>1</td>\n",
       "      <td>NaN</td>\n",
       "    </tr>\n",
       "    <tr>\n",
       "      <th>...</th>\n",
       "      <td>...</td>\n",
       "      <td>...</td>\n",
       "      <td>...</td>\n",
       "      <td>...</td>\n",
       "      <td>...</td>\n",
       "      <td>...</td>\n",
       "      <td>...</td>\n",
       "      <td>...</td>\n",
       "    </tr>\n",
       "    <tr>\n",
       "      <th>679079</th>\n",
       "      <td>David Marowitz</td>\n",
       "      <td>👌</td>\n",
       "      <td>5</td>\n",
       "      <td>0</td>\n",
       "      <td>2018-10-01 00:31:00</td>\n",
       "      <td>Hinge</td>\n",
       "      <td>1</td>\n",
       "      <td>NaN</td>\n",
       "    </tr>\n",
       "    <tr>\n",
       "      <th>679339</th>\n",
       "      <td>David Lewis</td>\n",
       "      <td>👍</td>\n",
       "      <td>5</td>\n",
       "      <td>0</td>\n",
       "      <td>2018-09-17 20:01:00</td>\n",
       "      <td>Hinge</td>\n",
       "      <td>1</td>\n",
       "      <td>NaN</td>\n",
       "    </tr>\n",
       "    <tr>\n",
       "      <th>679526</th>\n",
       "      <td>Kris stedy</td>\n",
       "      <td>👉👌🙈</td>\n",
       "      <td>5</td>\n",
       "      <td>0</td>\n",
       "      <td>2018-09-07 04:58:00</td>\n",
       "      <td>Hinge</td>\n",
       "      <td>1</td>\n",
       "      <td>NaN</td>\n",
       "    </tr>\n",
       "    <tr>\n",
       "      <th>679987</th>\n",
       "      <td>Mike Long</td>\n",
       "      <td>👍👍👍</td>\n",
       "      <td>5</td>\n",
       "      <td>0</td>\n",
       "      <td>2018-08-13 02:54:00</td>\n",
       "      <td>Hinge</td>\n",
       "      <td>1</td>\n",
       "      <td>NaN</td>\n",
       "    </tr>\n",
       "    <tr>\n",
       "      <th>680644</th>\n",
       "      <td>Lalit Soni</td>\n",
       "      <td>👍</td>\n",
       "      <td>5</td>\n",
       "      <td>0</td>\n",
       "      <td>2018-06-27 07:03:00</td>\n",
       "      <td>Hinge</td>\n",
       "      <td>1</td>\n",
       "      <td>NaN</td>\n",
       "    </tr>\n",
       "  </tbody>\n",
       "</table>\n",
       "<p>6769 rows × 8 columns</p>\n",
       "</div>"
      ],
      "text/plain": [
       "                      Name Review  Rating  #ThumbsUp            Date&Time  \\\n",
       "13             ayush singh     😜😛       1          0  2022-02-18 00:00:00   \n",
       "566      Upender Shekhawat      👍       5          0  2022-02-14 20:49:00   \n",
       "616     Muyiwa Praiseworth     🔥🔥       5          0  2022-02-14 12:23:00   \n",
       "631             Andy irish      🌻       5          0  2022-02-14 10:07:00   \n",
       "747           Lijo Vitalis      😋       5          0  2022-02-13 22:20:00   \n",
       "...                    ...    ...     ...        ...                  ...   \n",
       "679079      David Marowitz      👌       5          0  2018-10-01 00:31:00   \n",
       "679339         David Lewis      👍       5          0  2018-09-17 20:01:00   \n",
       "679526          Kris stedy    👉👌🙈       5          0  2018-09-07 04:58:00   \n",
       "679987           Mike Long    👍👍👍       5          0  2018-08-13 02:54:00   \n",
       "680644          Lalit Soni      👍       5          0  2018-06-27 07:03:00   \n",
       "\n",
       "           App  word_count preprocessed_review  \n",
       "13      Tinder           1                 NaN  \n",
       "566     Tinder           1                 NaN  \n",
       "616     Tinder           1                 NaN  \n",
       "631     Tinder           1                 NaN  \n",
       "747     Tinder           1                 NaN  \n",
       "...        ...         ...                 ...  \n",
       "679079   Hinge           1                 NaN  \n",
       "679339   Hinge           1                 NaN  \n",
       "679526   Hinge           1                 NaN  \n",
       "679987   Hinge           1                 NaN  \n",
       "680644   Hinge           1                 NaN  \n",
       "\n",
       "[6769 rows x 8 columns]"
      ]
     },
     "metadata": {},
     "output_type": "display_data"
    },
    {
     "name": "stdout",
     "output_type": "stream",
     "text": [
      "On remarque qu'on a  6769  lignes ayant un \"preprocessed_review\" == NaN ce qui correspond soit:\n",
      "\t-aux reviews ne possédant pas de mots intéressants pour l'analyse\n",
      "\t-aux reviews ne contenant que des emojis.\n",
      "\n",
      "Le nombre de lignes concernées représente 0.99 % du jeu de données ce qui est négligeable.\n",
      "Dans un premier temps nous allons donc supprimer ces lignes, et si le temps me le permet, je regarderai s'il est possible d'appliquer une analyse de sentiments sur les emojis.\n",
      "\n",
      "\n",
      "=> Avant suppression, le nombre de NaN dans le DataFrame est de 6769\n",
      "Suppression des lignes contenant un 'preprocessed_review' == NaN\n",
      "=> Le nombre de NaN dans le DataFrame est maintenant de 0\n"
     ]
    }
   ],
   "source": [
    "print(\"preprocessed reviews that are NaNs:\")\n",
    "display(df[df[\"preprocessed_review\"].isna()])\n",
    "print(\"On remarque qu'on a \", len(df[df[\"preprocessed_review\"].isna()]),\" lignes ayant un \\\"preprocessed_review\\\" == NaN ce qui correspond soit:\\n\\\n",
    "\\t-aux reviews ne possédant pas de mots intéressants pour l'analyse\\n\\\n",
    "\\t-aux reviews ne contenant que des emojis.\")\n",
    "\n",
    "print(\"\\nLe nombre de lignes concernées représente\",  np.round(len(df[df[\"preprocessed_review\"].isna()])/len(df)*100, 2) ,\"% du jeu de données ce qui est négligeable.\\n\\\n",
    "Dans un premier temps nous allons donc supprimer ces lignes, et si le temps me le permet, je regarderai s'il est possible d'appliquer une analyse de sentiments sur les emojis.\")\n",
    "\n",
    "print(\"\\n\\n=> Avant suppression, le nombre de NaN dans le DataFrame est de\", len(df[df[\"preprocessed_review\"].isna()]))\n",
    "print(\"Suppression des lignes contenant un 'preprocessed_review' == NaN\")\n",
    "df.dropna(axis=0, inplace=True, subset=[\"preprocessed_review\"])\n",
    "print(\"=> Le nombre de NaN dans le DataFrame est maintenant de\", len(df[df[\"preprocessed_review\"].isna()]))"
   ]
  },
  {
   "cell_type": "markdown",
   "metadata": {},
   "source": [
    "### Séparation des variables\n",
    "\n",
    "On sépare ici le jeu de données en 2 afin d'extraire les variables explicatives de la variable cible. \n",
    "\n",
    "Notre variable explicative est ici \"Review\" et la variable cible est \"Rating\""
   ]
  },
  {
   "cell_type": "code",
   "execution_count": 47,
   "metadata": {},
   "outputs": [
    {
     "name": "stdout",
     "output_type": "stream",
     "text": [
      "On est surtout intéressés par les Reviews et la note associée donc on drop les colonnes qui ne nous servent pas.\n"
     ]
    }
   ],
   "source": [
    "print(\"On est surtout intéressés par les Reviews et la note associée donc on drop les colonnes qui ne nous servent pas.\")\n",
    "\n",
    "X = df[\"preprocessed_review\"]\n",
    "y = df[\"Rating\"]"
   ]
  },
  {
   "cell_type": "markdown",
   "metadata": {},
   "source": [
    "### Vectorisation du text\n",
    "\n",
    "Dans cette partie nous allons vectoriser les mots de la colone `preprocessed_review` c'est à dire convertir les données textuelles en données/vecteurs numériques.\n",
    "Nous allons utiliser une variante de la méthode Bag of Words avec du word embedding (en utilisant Word2Vec). Cela va permettre de comprendre le contexte dans lequel chaque mot a été employé au lieu d'analyser un mot isolément. La données numériques calculées le seront à l'aide de l'approche TF-IDF permettant d'apporter une dimension statistique correspondant à la probabilité de trouver un mot dans les reviews: un mot qui est souvent utilisé est plus important et un mot qui est rare l'est tout autant."
   ]
  },
  {
   "cell_type": "code",
   "execution_count": 48,
   "metadata": {},
   "outputs": [],
   "source": [
    "# On sépare les jeux de données en set de test et d'entraînement\n",
    "X_train, X_test, y_train, y_test = train_test_split(X, y, test_size=0.2, shuffle=True)"
   ]
  },
  {
   "cell_type": "code",
   "execution_count": 49,
   "metadata": {},
   "outputs": [],
   "source": [
    "#Word2Vec\n",
    "# Word2Vec se base sur des phrases tokenisées donc on tokenise:\n",
    "X_train_tok= [nltk.word_tokenize(i) for i in X_train]  \n",
    "X_test_tok= [nltk.word_tokenize(i) for i in X_test]"
   ]
  },
  {
   "cell_type": "code",
   "execution_count": 50,
   "metadata": {},
   "outputs": [],
   "source": [
    "#Tf-Idf\n",
    "tfidf_vectorizer = TfidfVectorizer(use_idf=True)\n",
    "\n",
    "X_train_vectors_tfidf = tfidf_vectorizer.fit_transform(X_train) \n",
    "X_test_vectors_tfidf = tfidf_vectorizer.transform(X_test)"
   ]
  },
  {
   "cell_type": "code",
   "execution_count": 51,
   "metadata": {},
   "outputs": [],
   "source": [
    "#Construction du modèle Word2Vec\n",
    "class MeanEmbeddingVectorizer(object):\n",
    "        def __init__(self, word2vec):\n",
    "                self.word2vec = word2vec\n",
    "                self.dim = len(next(iter(word2vec.values())))\n",
    "\n",
    "        def fit(self, X, y):\n",
    "                return self\n",
    "\n",
    "        def transform(self, X):\n",
    "                return np.array([\n",
    "                        np.mean([self.word2vec[w] for w in words if w in self.word2vec]\n",
    "                        or [np.zeros(self.dim)], axis=0)\n",
    "                for words in X\n",
    "                ])\n",
    "\n",
    "df['preprocessed_review_tok'] = [nltk.word_tokenize(i) for i in df['preprocessed_review']]\n",
    "\n",
    "model = Word2Vec(df['preprocessed_review_tok'], min_count=1)    \n",
    "w2v = dict(zip(model.wv.index_to_key, model.wv.vectors))\n",
    "modelw = MeanEmbeddingVectorizer(w2v)"
   ]
  },
  {
   "cell_type": "code",
   "execution_count": 52,
   "metadata": {},
   "outputs": [],
   "source": [
    "# On convertit le texte en données numériques avec Word2Vec\n",
    "X_train_vectors_w2v = modelw.transform(X_train_tok)\n",
    "X_val_vectors_w2v = modelw.transform(X_test_tok)"
   ]
  },
  {
   "cell_type": "markdown",
   "metadata": {},
   "source": [
    "### Entraînement et choix des algorithmes de machine learning sur le jeu de données\n",
    "\n",
    "Dans cette partie nous allons essayer de trouver le modèle qui nous permet d'avoir la plus haute accuracy.\n",
    "\n",
    "Nous essaierons les modèles suivants de scikit learn:\n",
    "1. LogisticRegression\n",
    "2. DecisionTreeClassifier\n",
    "3. Multinomial Naive Bayes (MultinomialNB)\n",
    "4. SGDClassifier\n",
    "5. RandomForestClassifier"
   ]
  },
  {
   "cell_type": "markdown",
   "metadata": {},
   "source": [
    "#### 1. LogisticRegression"
   ]
  },
  {
   "cell_type": "code",
   "execution_count": 53,
   "metadata": {},
   "outputs": [
    {
     "name": "stdout",
     "output_type": "stream",
     "text": [
      "LogisticRegression classification report:\n",
      "              precision    recall  f1-score   support\n",
      "\n",
      "           1       0.70      0.91      0.79     50001\n",
      "           2       0.27      0.04      0.07     10483\n",
      "           3       0.31      0.11      0.16     11291\n",
      "           4       0.40      0.17      0.24     17045\n",
      "           5       0.70      0.87      0.78     45955\n",
      "\n",
      "    accuracy                           0.67    134775\n",
      "   macro avg       0.48      0.42      0.41    134775\n",
      "weighted avg       0.59      0.67      0.61    134775\n",
      "\n"
     ]
    }
   ],
   "source": [
    "log_reg = LogisticRegression(solver = 'liblinear', C=10, penalty = 'l2')\n",
    "log_reg.fit(X_train_vectors_tfidf, y_train)\n",
    "\n",
    "#On prédit y pour le dataset de test\n",
    "y_test_predict_log_reg = log_reg.predict(X_test_vectors_tfidf)\n",
    "\n",
    "#On prédit y pour le dataset d'entraînement\n",
    "y_train_predict_log_reg = log_reg.predict(X_train_vectors_tfidf)\n",
    "\n",
    "print(\"LogisticRegression classification report:\")\n",
    "print(classification_report(y_test, y_test_predict_log_reg, zero_division=1))\n"
   ]
  },
  {
   "cell_type": "markdown",
   "metadata": {},
   "source": [
    "#### 2. DecisionTreeClassifier"
   ]
  },
  {
   "cell_type": "code",
   "execution_count": 54,
   "metadata": {},
   "outputs": [
    {
     "name": "stdout",
     "output_type": "stream",
     "text": [
      "DecisionTreeClassifier classification report:\n",
      "              precision    recall  f1-score   support\n",
      "\n",
      "           1       0.69      0.75      0.72     50001\n",
      "           2       0.17      0.12      0.14     10483\n",
      "           3       0.19      0.14      0.16     11291\n",
      "           4       0.27      0.17      0.21     17045\n",
      "           5       0.68      0.79      0.73     45955\n",
      "\n",
      "    accuracy                           0.59    134775\n",
      "   macro avg       0.40      0.39      0.39    134775\n",
      "weighted avg       0.55      0.59      0.57    134775\n",
      "\n"
     ]
    }
   ],
   "source": [
    "from sklearn.tree import DecisionTreeClassifier\n",
    "\n",
    "dec_tree = DecisionTreeClassifier()\n",
    "dec_tree.fit(X_train_vectors_tfidf, y_train)\n",
    "\n",
    "#On prédit y pour le dataset de test\n",
    "y_test_predict_dec_tree = dec_tree.predict(X_test_vectors_tfidf)\n",
    "\n",
    "#On prédit y pour le dataset d'entraînement\n",
    "y_train_predict_dec_tree = dec_tree.predict(X_train_vectors_tfidf)\n",
    "\n",
    "print(\"DecisionTreeClassifier classification report:\")\n",
    "print(classification_report(y_test, y_test_predict_dec_tree, zero_division=1))"
   ]
  },
  {
   "cell_type": "markdown",
   "metadata": {},
   "source": [
    "#### 3. MultinomialNB"
   ]
  },
  {
   "cell_type": "code",
   "execution_count": 55,
   "metadata": {},
   "outputs": [
    {
     "name": "stdout",
     "output_type": "stream",
     "text": [
      "MultinomialNB classification report:\n",
      "              precision    recall  f1-score   support\n",
      "\n",
      "           0       0.00      1.00      0.00         0\n",
      "           1       0.69      0.87      0.77     50001\n",
      "           2       0.22      0.11      0.14     10483\n",
      "           3       0.27      0.18      0.21     11291\n",
      "           4       0.36      0.25      0.30     17045\n",
      "           5       0.76      0.74      0.75     45955\n",
      "\n",
      "    accuracy                           0.63    134775\n",
      "   macro avg       0.38      0.52      0.36    134775\n",
      "weighted avg       0.60      0.63      0.61    134775\n",
      "\n"
     ]
    }
   ],
   "source": [
    "from sklearn.naive_bayes import MultinomialNB\n",
    "\n",
    "multi_nb = MultinomialNB(fit_prior=False)\n",
    "multi_nb.fit(X_train_vectors_tfidf, y_train)\n",
    "\n",
    "#On prédit y pour le dataset de test\n",
    "y_test_predict_multi_nb = multi_nb.predict(X_test_vectors_tfidf)\n",
    "\n",
    "#On prédit y pour le dataset d'entraînement\n",
    "y_train_predict_multi_nb = multi_nb.predict(X_train_vectors_tfidf)\n",
    "\n",
    "print(\"MultinomialNB classification report:\")\n",
    "print(classification_report(y_test, y_test_predict_multi_nb, zero_division=1))"
   ]
  },
  {
   "cell_type": "markdown",
   "metadata": {},
   "source": [
    "#### 4. SGDClassifier"
   ]
  },
  {
   "cell_type": "code",
   "execution_count": 56,
   "metadata": {},
   "outputs": [
    {
     "name": "stdout",
     "output_type": "stream",
     "text": [
      "SGDClassifier classification report:\n",
      "              precision    recall  f1-score   support\n",
      "\n",
      "           1       0.67      0.92      0.78     50001\n",
      "           2       0.17      0.01      0.02     10483\n",
      "           3       0.34      0.04      0.07     11291\n",
      "           4       0.40      0.04      0.08     17045\n",
      "           5       0.67      0.90      0.77     45955\n",
      "\n",
      "    accuracy                           0.66    134775\n",
      "   macro avg       0.45      0.38      0.34    134775\n",
      "weighted avg       0.57      0.66      0.57    134775\n",
      "\n"
     ]
    }
   ],
   "source": [
    "from sklearn.linear_model import SGDClassifier\n",
    "\n",
    "sgdc = SGDClassifier()\n",
    "sgdc.fit(X_train_vectors_tfidf, y_train)\n",
    "\n",
    "#On prédit y pour le dataset de test\n",
    "y_test_predict_sgdc = sgdc.predict(X_test_vectors_tfidf)\n",
    "\n",
    "#On prédit y pour le dataset d'entraînement\n",
    "y_train_predict_sgdc = sgdc.predict(X_train_vectors_tfidf)\n",
    "\n",
    "print(\"SGDClassifier classification report:\")\n",
    "print(classification_report(y_test, y_test_predict_sgdc, zero_division=1))"
   ]
  },
  {
   "cell_type": "markdown",
   "metadata": {},
   "source": [
    "#### 5. RandomForestClassifier"
   ]
  },
  {
   "cell_type": "code",
   "execution_count": 57,
   "metadata": {},
   "outputs": [
    {
     "name": "stdout",
     "output_type": "stream",
     "text": [
      "RandomForestClassifier classification report:\n",
      "              precision    recall  f1-score   support\n",
      "\n",
      "           1       0.65      0.93      0.76     50001\n",
      "           2       0.22      0.01      0.03     10483\n",
      "           3       0.28      0.05      0.08     11291\n",
      "           4       0.39      0.12      0.18     17045\n",
      "           5       0.70      0.85      0.77     45955\n",
      "\n",
      "    accuracy                           0.65    134775\n",
      "   macro avg       0.45      0.39      0.37    134775\n",
      "weighted avg       0.57      0.65      0.58    134775\n",
      "\n"
     ]
    }
   ],
   "source": [
    "from sklearn.ensemble import RandomForestClassifier\n",
    "\n",
    "#FITTING THE CLASSIFICATION MODEL using the RandomForestClassifier model\n",
    "rfc = RandomForestClassifier(n_estimators=50, random_state=0)\n",
    "rfc.fit(X_train_vectors_tfidf, y_train)\n",
    "\n",
    "#On prédit y pour le dataset de test\n",
    "y_test_predict_rfc = rfc.predict(X_test_vectors_tfidf)\n",
    "\n",
    "#On prédit y pour le dataset d'entraînement\n",
    "y_train_predict_rfc = rfc.predict(X_train_vectors_tfidf)\n",
    "\n",
    "print(\"RandomForestClassifier classification report:\")\n",
    "print(classification_report(y_test, y_test_predict_rfc, zero_division=1))"
   ]
  },
  {
   "cell_type": "markdown",
   "metadata": {},
   "source": [
    "Après avoir essayé un certain nombre de modèles de classification et après avoir comparé les accuracies, choisissons celui qui a le meilleur score sur le jeu de données de test tout en ayant pas une trop grosse accuracy sur le jeu de données d'entrainement indiquant un surappretissage:"
   ]
  },
  {
   "cell_type": "code",
   "execution_count": 58,
   "metadata": {},
   "outputs": [
    {
     "name": "stdout",
     "output_type": "stream",
     "text": [
      "Comparaison des accuracies:\n",
      "\n",
      "LogisticRegression\n",
      "Train: 0.710523875065387\n",
      "Test:  0.6664811723242441\n",
      "\n",
      "DecisionTreeClassifier\n",
      "Train: 0.9169650045075293\n",
      "Test:  0.5905620478575403\n",
      "\n",
      "MultinomialNB\n",
      "Train: 0.647683723553046\n",
      "Test:  0.6278093118159896\n",
      "\n",
      "SGDClassifier\n",
      "Train: 0.6611413880222149\n",
      "Test:  0.6592097941012799\n",
      "\n",
      "RandomForestClassifier\n",
      "Train: 0.9168537074891764\n",
      "Test:  0.654958263772955\n"
     ]
    }
   ],
   "source": [
    "print(\"Comparaison des accuracies:\")\n",
    "\n",
    "print(\"\\nLogisticRegression\")\n",
    "print(\"Train:\", accuracy_score(y_train, y_train_predict_log_reg))\n",
    "print(\"Test: \", accuracy_score(y_test, y_test_predict_log_reg))\n",
    "\n",
    "print(\"\\nDecisionTreeClassifier\")\n",
    "print(\"Train:\", accuracy_score(y_train, y_train_predict_dec_tree))\n",
    "print(\"Test: \", accuracy_score(y_test, y_test_predict_dec_tree))\n",
    "\n",
    "print(\"\\nMultinomialNB\")\n",
    "print(\"Train:\", accuracy_score(y_train, y_train_predict_multi_nb))\n",
    "print(\"Test: \", accuracy_score(y_test, y_test_predict_multi_nb))\n",
    "\n",
    "print(\"\\nSGDClassifier\")\n",
    "print(\"Train:\", accuracy_score(y_train, y_train_predict_sgdc))\n",
    "print(\"Test: \", accuracy_score(y_test, y_test_predict_sgdc))\n",
    "\n",
    "print(\"\\nRandomForestClassifier\")\n",
    "print(\"Train:\", accuracy_score(y_train, y_train_predict_rfc))\n",
    "print(\"Test: \", accuracy_score(y_test, y_test_predict_rfc))"
   ]
  },
  {
   "cell_type": "markdown",
   "metadata": {},
   "source": [
    "Nous choissisons donc la regression logistique qui semble avoir des résultats satisfaisants."
   ]
  },
  {
   "cell_type": "code",
   "execution_count": 59,
   "metadata": {},
   "outputs": [
    {
     "data": {
      "text/plain": [
       "array([1], dtype=int64)"
      ]
     },
     "execution_count": 59,
     "metadata": {},
     "output_type": "execute_result"
    }
   ],
   "source": [
    "sgdc.predict(tfidf_vectorizer.transform([\"pretty bad\"]))"
   ]
  },
  {
   "cell_type": "code",
   "execution_count": 236,
   "metadata": {},
   "outputs": [
    {
     "data": {
      "text/html": [
       "<div>\n",
       "<style scoped>\n",
       "    .dataframe tbody tr th:only-of-type {\n",
       "        vertical-align: middle;\n",
       "    }\n",
       "\n",
       "    .dataframe tbody tr th {\n",
       "        vertical-align: top;\n",
       "    }\n",
       "\n",
       "    .dataframe thead th {\n",
       "        text-align: right;\n",
       "    }\n",
       "</style>\n",
       "<table border=\"1\" class=\"dataframe\">\n",
       "  <thead>\n",
       "    <tr style=\"text-align: right;\">\n",
       "      <th></th>\n",
       "      <th>Name</th>\n",
       "      <th>Review</th>\n",
       "      <th>Rating</th>\n",
       "      <th>#ThumbsUp</th>\n",
       "      <th>Date&amp;Time</th>\n",
       "      <th>App</th>\n",
       "      <th>word_count</th>\n",
       "      <th>found_love</th>\n",
       "    </tr>\n",
       "  </thead>\n",
       "  <tbody>\n",
       "    <tr>\n",
       "      <th>0</th>\n",
       "      <td>linah sibanda</td>\n",
       "      <td>On this app i cant find a partner</td>\n",
       "      <td>5</td>\n",
       "      <td>0</td>\n",
       "      <td>2022-02-18 01:19:00</td>\n",
       "      <td>Tinder</td>\n",
       "      <td>8</td>\n",
       "      <td>None</td>\n",
       "    </tr>\n",
       "    <tr>\n",
       "      <th>1</th>\n",
       "      <td>Norman Johnson</td>\n",
       "      <td>Tinder would be so much better if we could spe...</td>\n",
       "      <td>3</td>\n",
       "      <td>0</td>\n",
       "      <td>2022-02-18 01:16:00</td>\n",
       "      <td>Tinder</td>\n",
       "      <td>23</td>\n",
       "      <td>None</td>\n",
       "    </tr>\n",
       "    <tr>\n",
       "      <th>2</th>\n",
       "      <td>David Hume</td>\n",
       "      <td>Still doesn't correctly notify matches or mess...</td>\n",
       "      <td>1</td>\n",
       "      <td>0</td>\n",
       "      <td>2022-02-18 01:11:00</td>\n",
       "      <td>Tinder</td>\n",
       "      <td>63</td>\n",
       "      <td>None</td>\n",
       "    </tr>\n",
       "    <tr>\n",
       "      <th>3</th>\n",
       "      <td>Last 1 Standing</td>\n",
       "      <td>Got banned because I updated my bio to say \"I ...</td>\n",
       "      <td>2</td>\n",
       "      <td>0</td>\n",
       "      <td>2022-02-18 01:11:00</td>\n",
       "      <td>Tinder</td>\n",
       "      <td>40</td>\n",
       "      <td>None</td>\n",
       "    </tr>\n",
       "    <tr>\n",
       "      <th>4</th>\n",
       "      <td>Arthur Magamedov</td>\n",
       "      <td>Love it!</td>\n",
       "      <td>5</td>\n",
       "      <td>0</td>\n",
       "      <td>2022-02-18 01:06:00</td>\n",
       "      <td>Tinder</td>\n",
       "      <td>2</td>\n",
       "      <td>None</td>\n",
       "    </tr>\n",
       "    <tr>\n",
       "      <th>...</th>\n",
       "      <td>...</td>\n",
       "      <td>...</td>\n",
       "      <td>...</td>\n",
       "      <td>...</td>\n",
       "      <td>...</td>\n",
       "      <td>...</td>\n",
       "      <td>...</td>\n",
       "      <td>...</td>\n",
       "    </tr>\n",
       "    <tr>\n",
       "      <th>681989</th>\n",
       "      <td>A Google user</td>\n",
       "      <td>Useless - I'm in the UK and it tells me i'm ov...</td>\n",
       "      <td>2</td>\n",
       "      <td>5</td>\n",
       "      <td>2017-07-12 01:44:00</td>\n",
       "      <td>Hinge</td>\n",
       "      <td>39</td>\n",
       "      <td>None</td>\n",
       "    </tr>\n",
       "    <tr>\n",
       "      <th>681990</th>\n",
       "      <td>Brian Shook</td>\n",
       "      <td>I can't get past the initial set up.  It won't...</td>\n",
       "      <td>1</td>\n",
       "      <td>11</td>\n",
       "      <td>2017-07-12 01:36:00</td>\n",
       "      <td>Hinge</td>\n",
       "      <td>24</td>\n",
       "      <td>None</td>\n",
       "    </tr>\n",
       "    <tr>\n",
       "      <th>681991</th>\n",
       "      <td>A Google user</td>\n",
       "      <td>This is incredible! A quality dating app for A...</td>\n",
       "      <td>5</td>\n",
       "      <td>1</td>\n",
       "      <td>2017-07-12 01:32:00</td>\n",
       "      <td>Hinge</td>\n",
       "      <td>11</td>\n",
       "      <td>None</td>\n",
       "    </tr>\n",
       "    <tr>\n",
       "      <th>681992</th>\n",
       "      <td>A Google user</td>\n",
       "      <td>\"Over Water\" ... Can't choose location.</td>\n",
       "      <td>2</td>\n",
       "      <td>8</td>\n",
       "      <td>2017-07-12 01:28:00</td>\n",
       "      <td>Hinge</td>\n",
       "      <td>6</td>\n",
       "      <td>None</td>\n",
       "    </tr>\n",
       "    <tr>\n",
       "      <th>681993</th>\n",
       "      <td>Dylan Fick</td>\n",
       "      <td>My entire town counts as \"over water\" and I ca...</td>\n",
       "      <td>2</td>\n",
       "      <td>15</td>\n",
       "      <td>2017-07-12 01:24:00</td>\n",
       "      <td>Hinge</td>\n",
       "      <td>11</td>\n",
       "      <td>None</td>\n",
       "    </tr>\n",
       "  </tbody>\n",
       "</table>\n",
       "<p>680642 rows × 8 columns</p>\n",
       "</div>"
      ],
      "text/plain": [
       "                    Name                                             Review  \\\n",
       "0          linah sibanda                  On this app i cant find a partner   \n",
       "1         Norman Johnson  Tinder would be so much better if we could spe...   \n",
       "2             David Hume  Still doesn't correctly notify matches or mess...   \n",
       "3        Last 1 Standing  Got banned because I updated my bio to say \"I ...   \n",
       "4       Arthur Magamedov                                           Love it!   \n",
       "...                  ...                                                ...   \n",
       "681989     A Google user  Useless - I'm in the UK and it tells me i'm ov...   \n",
       "681990       Brian Shook  I can't get past the initial set up.  It won't...   \n",
       "681991     A Google user  This is incredible! A quality dating app for A...   \n",
       "681992     A Google user            \"Over Water\" ... Can't choose location.   \n",
       "681993        Dylan Fick  My entire town counts as \"over water\" and I ca...   \n",
       "\n",
       "        Rating  #ThumbsUp           Date&Time     App  word_count found_love  \n",
       "0            5          0 2022-02-18 01:19:00  Tinder           8       None  \n",
       "1            3          0 2022-02-18 01:16:00  Tinder          23       None  \n",
       "2            1          0 2022-02-18 01:11:00  Tinder          63       None  \n",
       "3            2          0 2022-02-18 01:11:00  Tinder          40       None  \n",
       "4            5          0 2022-02-18 01:06:00  Tinder           2       None  \n",
       "...        ...        ...                 ...     ...         ...        ...  \n",
       "681989       2          5 2017-07-12 01:44:00   Hinge          39       None  \n",
       "681990       1         11 2017-07-12 01:36:00   Hinge          24       None  \n",
       "681991       5          1 2017-07-12 01:32:00   Hinge          11       None  \n",
       "681992       2          8 2017-07-12 01:28:00   Hinge           6       None  \n",
       "681993       2         15 2017-07-12 01:24:00   Hinge          11       None  \n",
       "\n",
       "[680642 rows x 8 columns]"
      ]
     },
     "execution_count": 236,
     "metadata": {},
     "output_type": "execute_result"
    }
   ],
   "source": [
    "df"
   ]
  },
  {
   "cell_type": "code",
   "execution_count": null,
   "metadata": {},
   "outputs": [],
   "source": []
  }
 ],
 "metadata": {
  "interpreter": {
   "hash": "86b2f5735f87b0fa134201e8b0fc427822a6ff5f711a326dc96a428b071085e9"
  },
  "kernelspec": {
   "display_name": "Python 3.9.7 ('datascience')",
   "language": "python",
   "name": "python3"
  },
  "language_info": {
   "codemirror_mode": {
    "name": "ipython",
    "version": 3
   },
   "file_extension": ".py",
   "mimetype": "text/x-python",
   "name": "python",
   "nbconvert_exporter": "python",
   "pygments_lexer": "ipython3",
   "version": "3.9.7"
  },
  "orig_nbformat": 4
 },
 "nbformat": 4,
 "nbformat_minor": 2
}
