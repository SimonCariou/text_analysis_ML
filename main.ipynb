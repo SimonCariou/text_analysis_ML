{
 "cells": [
  {
   "cell_type": "markdown",
   "metadata": {},
   "source": [
    "# NLP\n",
    "\n",
    "Analyse des reviews que des utilisateurs laissent sur les apps de rencontre hébergées sur les App stores.\n",
    "Le dataset dont nous allons nous servir est issu de kaggle:  https://www.kaggle.com/sidharthkriplani/datingappreviews."
   ]
  },
  {
   "cell_type": "markdown",
   "metadata": {},
   "source": [
    "## Import des librairies\n",
    "\n",
    "Nous aurons besoin de scikit-learn, pandas, numpy et ntlk la librairie d'analyse de langage naturel.\n"
   ]
  },
  {
   "cell_type": "code",
   "execution_count": 1,
   "metadata": {},
   "outputs": [
    {
     "name": "stderr",
     "output_type": "stream",
     "text": [
      "[nltk_data] Downloading package punkt to\n",
      "[nltk_data]     C:\\Users\\simon\\AppData\\Roaming\\nltk_data...\n",
      "[nltk_data]   Package punkt is already up-to-date!\n",
      "[nltk_data] Downloading package averaged_perceptron_tagger to\n",
      "[nltk_data]     C:\\Users\\simon\\AppData\\Roaming\\nltk_data...\n",
      "[nltk_data]   Package averaged_perceptron_tagger is already up-to-\n",
      "[nltk_data]       date!\n",
      "[nltk_data] Downloading package wordnet to\n",
      "[nltk_data]     C:\\Users\\simon\\AppData\\Roaming\\nltk_data...\n",
      "[nltk_data]   Package wordnet is already up-to-date!\n"
     ]
    }
   ],
   "source": [
    "\n",
    "import pandas as pd\n",
    "import numpy as np\n",
    "import matplotlib.pyplot as plt\n",
    "%matplotlib inline\n",
    "from IPython.display import display\n",
    "#NLP libs\n",
    "import re, string\n",
    "import nltk\n",
    "from nltk.corpus import stopwords\n",
    "from nltk.tokenize import word_tokenize\n",
    "from nltk.stem import SnowballStemmer\n",
    "from nltk.corpus import wordnet\n",
    "from nltk.stem import WordNetLemmatizer\n",
    "\n",
    "nltk.download('punkt')\n",
    "nltk.download('averaged_perceptron_tagger')\n",
    "nltk.download('wordnet')\n",
    "\n",
    "#for model-building\n",
    "from sklearn.model_selection import train_test_split\n",
    "from sklearn.linear_model import LogisticRegression\n",
    "from sklearn.naive_bayes import MultinomialNB\n",
    "from sklearn.metrics import classification_report, f1_score, accuracy_score, confusion_matrix\n",
    "from sklearn.metrics import roc_curve, auc, roc_auc_score\n",
    "\n",
    "# bag of words\n",
    "from sklearn.feature_extraction.text import TfidfVectorizer\n",
    "from sklearn.feature_extraction.text import CountVectorizer\n"
   ]
  },
  {
   "cell_type": "markdown",
   "metadata": {},
   "source": [
    "## Préparation des données\n",
    "\n",
    "Le dataset n'est pas encore propre et il faut le traiter avant toute chose."
   ]
  },
  {
   "cell_type": "markdown",
   "metadata": {},
   "source": [
    "### Nettoyage\n",
    "\n",
    "- Gérer les NaNs (les remplacer par des valeurs qui ont du sens ou tout simplement supprimer la ligne pour les données critiques)\n",
    "- S'assurer d'avoir un index unique pour chaque ligne\n",
    "- "
   ]
  },
  {
   "cell_type": "code",
   "execution_count": 174,
   "metadata": {},
   "outputs": [
    {
     "data": {
      "text/html": [
       "<div>\n",
       "<style scoped>\n",
       "    .dataframe tbody tr th:only-of-type {\n",
       "        vertical-align: middle;\n",
       "    }\n",
       "\n",
       "    .dataframe tbody tr th {\n",
       "        vertical-align: top;\n",
       "    }\n",
       "\n",
       "    .dataframe thead th {\n",
       "        text-align: right;\n",
       "    }\n",
       "</style>\n",
       "<table border=\"1\" class=\"dataframe\">\n",
       "  <thead>\n",
       "    <tr style=\"text-align: right;\">\n",
       "      <th></th>\n",
       "      <th>Name</th>\n",
       "      <th>Review</th>\n",
       "      <th>Rating</th>\n",
       "      <th>#ThumbsUp</th>\n",
       "      <th>Date&amp;Time</th>\n",
       "      <th>App</th>\n",
       "    </tr>\n",
       "  </thead>\n",
       "  <tbody>\n",
       "    <tr>\n",
       "      <th>0</th>\n",
       "      <td>linah sibanda</td>\n",
       "      <td>On this app i cant find a partner</td>\n",
       "      <td>5</td>\n",
       "      <td>0</td>\n",
       "      <td>18-02-2022 01:19</td>\n",
       "      <td>Tinder</td>\n",
       "    </tr>\n",
       "    <tr>\n",
       "      <th>1</th>\n",
       "      <td>Norman Johnson</td>\n",
       "      <td>Tinder would be so much better if we could spe...</td>\n",
       "      <td>3</td>\n",
       "      <td>0</td>\n",
       "      <td>18-02-2022 01:16</td>\n",
       "      <td>Tinder</td>\n",
       "    </tr>\n",
       "    <tr>\n",
       "      <th>2</th>\n",
       "      <td>David Hume</td>\n",
       "      <td>Still doesn't correctly notify matches or mess...</td>\n",
       "      <td>1</td>\n",
       "      <td>0</td>\n",
       "      <td>18-02-2022 01:11</td>\n",
       "      <td>Tinder</td>\n",
       "    </tr>\n",
       "    <tr>\n",
       "      <th>3</th>\n",
       "      <td>Last 1 Standing</td>\n",
       "      <td>Got banned because I updated my bio to say \"I ...</td>\n",
       "      <td>2</td>\n",
       "      <td>0</td>\n",
       "      <td>18-02-2022 01:11</td>\n",
       "      <td>Tinder</td>\n",
       "    </tr>\n",
       "    <tr>\n",
       "      <th>4</th>\n",
       "      <td>Arthur Magamedov</td>\n",
       "      <td>Love it!</td>\n",
       "      <td>5</td>\n",
       "      <td>0</td>\n",
       "      <td>18-02-2022 01:06</td>\n",
       "      <td>Tinder</td>\n",
       "    </tr>\n",
       "  </tbody>\n",
       "</table>\n",
       "</div>"
      ],
      "text/plain": [
       "               Name                                             Review  \\\n",
       "0     linah sibanda                  On this app i cant find a partner   \n",
       "1    Norman Johnson  Tinder would be so much better if we could spe...   \n",
       "2        David Hume  Still doesn't correctly notify matches or mess...   \n",
       "3   Last 1 Standing  Got banned because I updated my bio to say \"I ...   \n",
       "4  Arthur Magamedov                                           Love it!   \n",
       "\n",
       "   Rating  #ThumbsUp         Date&Time     App  \n",
       "0       5          0  18-02-2022 01:19  Tinder  \n",
       "1       3          0  18-02-2022 01:16  Tinder  \n",
       "2       1          0  18-02-2022 01:11  Tinder  \n",
       "3       2          0  18-02-2022 01:11  Tinder  \n",
       "4       5          0  18-02-2022 01:06  Tinder  "
      ]
     },
     "execution_count": 174,
     "metadata": {},
     "output_type": "execute_result"
    }
   ],
   "source": [
    "df = pd.read_csv(\"./DatingAppReviewsDataset.csv\", index_col=0)\n",
    "df.head()"
   ]
  },
  {
   "cell_type": "code",
   "execution_count": 175,
   "metadata": {},
   "outputs": [
    {
     "name": "stdout",
     "output_type": "stream",
     "text": [
      "On vérifie que les index sont bien des valeurs uniques:  False\n",
      "On va donc réécrire cet index.\n",
      "On va regarder si des NaNs existent dans le dataset\n",
      "Name          True\n",
      "Review        True\n",
      "Rating       False\n",
      "#ThumbsUp    False\n",
      "Date&Time    False\n",
      "App          False\n",
      "dtype: bool\n",
      "Name et Review contiennent des NaNs on va donc les nettoyer\n"
     ]
    }
   ],
   "source": [
    "print(\"On vérifie que les index sont bien des valeurs uniques: \", df.index.is_unique)\n",
    "\n",
    "print(\"On va donc réécrire cet index.\")\n",
    "df = df.reset_index()\n",
    "df = df.drop(\"index\", axis = 1)\n",
    "\n",
    "print(\"On va regarder si des NaNs existent dans le dataset\")\n",
    "print(df.isna().any())\n",
    "print(\"Name et Review contiennent des NaNs on va donc les nettoyer\")"
   ]
  },
  {
   "cell_type": "code",
   "execution_count": 176,
   "metadata": {},
   "outputs": [
    {
     "name": "stdout",
     "output_type": "stream",
     "text": [
      "Name         False\n",
      "Review       False\n",
      "Rating       False\n",
      "#ThumbsUp    False\n",
      "Date&Time    False\n",
      "App          False\n",
      "dtype: bool\n",
      "On n'a plus aucun NaNs et on s'est débarrasé des rows ayant des reviews vides.\n"
     ]
    }
   ],
   "source": [
    "#On supprime les rows si Review, Rating ou App sont des nan. Des lignes avec #ThumbsUp,\tDate&Time et Name étant des NAN existent \n",
    "# mais leur impact est limité dans notre analyse \n",
    "\n",
    "df.dropna(inplace=True, subset=[\"Review\", \"Rating\", \"App\"])\n",
    "df[\"Name\"].fillna(\"Not available\", inplace=True)\n",
    "\n",
    "print(df.isna().any())\n",
    "print(\"On n'a plus aucun NaNs et on s'est débarrasé des rows ayant des reviews vides.\")"
   ]
  },
  {
   "cell_type": "markdown",
   "metadata": {},
   "source": [
    "### Exploration des données\n",
    "\n",
    "Ici on va tracer des courbes en essayant de faire parler les données. Il s'agit d'une analyse exploratoire."
   ]
  },
  {
   "cell_type": "code",
   "execution_count": 177,
   "metadata": {},
   "outputs": [
    {
     "data": {
      "text/html": [
       "<div>\n",
       "<style scoped>\n",
       "    .dataframe tbody tr th:only-of-type {\n",
       "        vertical-align: middle;\n",
       "    }\n",
       "\n",
       "    .dataframe tbody tr th {\n",
       "        vertical-align: top;\n",
       "    }\n",
       "\n",
       "    .dataframe thead th {\n",
       "        text-align: right;\n",
       "    }\n",
       "</style>\n",
       "<table border=\"1\" class=\"dataframe\">\n",
       "  <thead>\n",
       "    <tr style=\"text-align: right;\">\n",
       "      <th></th>\n",
       "      <th>#ThumbsUp</th>\n",
       "    </tr>\n",
       "    <tr>\n",
       "      <th>Rating</th>\n",
       "      <th></th>\n",
       "    </tr>\n",
       "  </thead>\n",
       "  <tbody>\n",
       "    <tr>\n",
       "      <th>0</th>\n",
       "      <td>0</td>\n",
       "    </tr>\n",
       "    <tr>\n",
       "      <th>1</th>\n",
       "      <td>825165</td>\n",
       "    </tr>\n",
       "    <tr>\n",
       "      <th>2</th>\n",
       "      <td>184295</td>\n",
       "    </tr>\n",
       "    <tr>\n",
       "      <th>3</th>\n",
       "      <td>98943</td>\n",
       "    </tr>\n",
       "    <tr>\n",
       "      <th>4</th>\n",
       "      <td>82624</td>\n",
       "    </tr>\n",
       "    <tr>\n",
       "      <th>5</th>\n",
       "      <td>86775</td>\n",
       "    </tr>\n",
       "  </tbody>\n",
       "</table>\n",
       "</div>"
      ],
      "text/plain": [
       "        #ThumbsUp\n",
       "Rating           \n",
       "0               0\n",
       "1          825165\n",
       "2          184295\n",
       "3           98943\n",
       "4           82624\n",
       "5           86775"
      ]
     },
     "metadata": {},
     "output_type": "display_data"
    },
    {
     "data": {
      "image/png": "[encoded data removed]",
      "text/plain": [
       "<Figure size 432x288 with 1 Axes>"
      ]
     },
     "metadata": {
      "needs_background": "light"
     },
     "output_type": "display_data"
    },
    {
     "name": "stdout",
     "output_type": "stream",
     "text": [
      "Les commentaires ayant reçu une note de 1 sont les plus souvent upvotés et de loin.\n"
     ]
    }
   ],
   "source": [
    "#Dataframe contenant la somme des thumbs up pour chaque note attribuée aux commentaires\n",
    "comp_rating_thumbs_up = df.groupby(\"Rating\").sum()\n",
    "display(comp_rating_thumbs_up)\n",
    "\n",
    "#On reset l'index car rating a été considéré comme l'index:\n",
    "comp_rating_thumbs_up.reset_index().plot.bar(x=\"Rating\", y=\"#ThumbsUp\", width=0.9, color=\"g\")\n",
    "\n",
    "plt.xlabel(\"Notes\")\n",
    "plt.ylabel(\"#ThumbsUp\")\n",
    "plt.title(\"#ThumbsUp en fonction de la note.\");\n",
    "plt.show();\n",
    "\n",
    "print(\"Les commentaires ayant reçu une note de 1 sont les plus souvent upvotés et de loin.\")"
   ]
  },
  {
   "cell_type": "code",
   "execution_count": 178,
   "metadata": {},
   "outputs": [
    {
     "data": {
      "image/png": "[encoded data removed]",
      "text/plain": [
       "<Figure size 400x300 with 1 Axes>"
      ]
     },
     "metadata": {
      "needs_background": "light"
     },
     "output_type": "display_data"
    },
    {
     "name": "stdout",
     "output_type": "stream",
     "text": [
      "Tinder est l'application la plus notée\n"
     ]
    }
   ],
   "source": [
    "plt.figure(dpi=100, figsize=(4,3))\n",
    "plt.hist(df.App, color=\"blue\", stacked=True)\n",
    "plt.xlabel(\"Applications\")\n",
    "plt.ylabel(\"Number of reviews per app\")\n",
    "plt.title(\"Number of reviews for each app\")\n",
    "plt.show();\n",
    "print(\"Tinder est l'application la plus notée\")\n"
   ]
  },
  {
   "cell_type": "code",
   "execution_count": 179,
   "metadata": {},
   "outputs": [
    {
     "data": {
      "text/html": [
       "<div>\n",
       "<style scoped>\n",
       "    .dataframe tbody tr th:only-of-type {\n",
       "        vertical-align: middle;\n",
       "    }\n",
       "\n",
       "    .dataframe tbody tr th {\n",
       "        vertical-align: top;\n",
       "    }\n",
       "\n",
       "    .dataframe thead tr th {\n",
       "        text-align: left;\n",
       "    }\n",
       "\n",
       "    .dataframe thead tr:last-of-type th {\n",
       "        text-align: right;\n",
       "    }\n",
       "</style>\n",
       "<table border=\"1\" class=\"dataframe\">\n",
       "  <thead>\n",
       "    <tr>\n",
       "      <th></th>\n",
       "      <th colspan=\"4\" halign=\"left\">Rating</th>\n",
       "    </tr>\n",
       "    <tr>\n",
       "      <th></th>\n",
       "      <th>min</th>\n",
       "      <th>max</th>\n",
       "      <th>mean</th>\n",
       "      <th>median</th>\n",
       "    </tr>\n",
       "    <tr>\n",
       "      <th>App</th>\n",
       "      <th></th>\n",
       "      <th></th>\n",
       "      <th></th>\n",
       "      <th></th>\n",
       "    </tr>\n",
       "  </thead>\n",
       "  <tbody>\n",
       "    <tr>\n",
       "      <th>Bumble</th>\n",
       "      <td>1</td>\n",
       "      <td>5</td>\n",
       "      <td>2.832252</td>\n",
       "      <td>3.0</td>\n",
       "    </tr>\n",
       "    <tr>\n",
       "      <th>Hinge</th>\n",
       "      <td>1</td>\n",
       "      <td>5</td>\n",
       "      <td>3.180895</td>\n",
       "      <td>4.0</td>\n",
       "    </tr>\n",
       "    <tr>\n",
       "      <th>Tinder</th>\n",
       "      <td>0</td>\n",
       "      <td>5</td>\n",
       "      <td>3.007847</td>\n",
       "      <td>3.0</td>\n",
       "    </tr>\n",
       "  </tbody>\n",
       "</table>\n",
       "</div>"
      ],
      "text/plain": [
       "       Rating                     \n",
       "          min max      mean median\n",
       "App                               \n",
       "Bumble      1   5  2.832252    3.0\n",
       "Hinge       1   5  3.180895    4.0\n",
       "Tinder      0   5  3.007847    3.0"
      ]
     },
     "metadata": {},
     "output_type": "display_data"
    },
    {
     "name": "stdout",
     "output_type": "stream",
     "text": [
      "Hinge est l'application qui possède le la note moyenne la plus élevée. Néanmoins c'est aussi celle qui a le moins de reviews.\n",
      "Avec un si petit delta dans la note moyenne associée aux apps, la note moyenne de Tinder, ayant 4 fois plus de reviews que Hinge est plus fiable.\n",
      "\n",
      "\n",
      "On affiche les notes moyennes des différentes applications:\n"
     ]
    },
    {
     "data": {
      "text/html": [
       "<div>\n",
       "<style scoped>\n",
       "    .dataframe tbody tr th:only-of-type {\n",
       "        vertical-align: middle;\n",
       "    }\n",
       "\n",
       "    .dataframe tbody tr th {\n",
       "        vertical-align: top;\n",
       "    }\n",
       "\n",
       "    .dataframe thead th {\n",
       "        text-align: right;\n",
       "    }\n",
       "</style>\n",
       "<table border=\"1\" class=\"dataframe\">\n",
       "  <thead>\n",
       "    <tr style=\"text-align: right;\">\n",
       "      <th>App</th>\n",
       "      <th>Bumble</th>\n",
       "      <th>Hinge</th>\n",
       "      <th>Tinder</th>\n",
       "    </tr>\n",
       "  </thead>\n",
       "  <tbody>\n",
       "    <tr>\n",
       "      <th>Rating</th>\n",
       "      <td>2.832252</td>\n",
       "      <td>3.180895</td>\n",
       "      <td>3.007847</td>\n",
       "    </tr>\n",
       "  </tbody>\n",
       "</table>\n",
       "</div>"
      ],
      "text/plain": [
       "App       Bumble     Hinge    Tinder\n",
       "Rating  2.832252  3.180895  3.007847"
      ]
     },
     "metadata": {},
     "output_type": "display_data"
    },
    {
     "name": "stdout",
     "output_type": "stream",
     "text": [
      "On peut voir ici que l'application la mieux notée est Hinge car sa note moyenne est 3.18/5\n"
     ]
    },
    {
     "data": {
      "image/png": "[encoded data removed]",
      "text/plain": [
       "<Figure size 432x288 with 1 Axes>"
      ]
     },
     "metadata": {
      "needs_background": "light"
     },
     "output_type": "display_data"
    }
   ],
   "source": [
    "display(df.groupby(\"App\").agg({\"Rating\": [min, max, np.mean, np.median]}))\n",
    "print(\"Hinge est l'application qui possède le la note moyenne la plus élevée. Néanmoins c'est aussi celle qui a le moins de reviews.\")\n",
    "print(\"Avec un si petit delta dans la note moyenne associée aux apps, la note moyenne de Tinder, ayant 4 fois plus de reviews que Hinge est plus fiable.\")\n",
    "\n",
    "print(\"\\n\\nOn affiche les notes moyennes des différentes applications:\")\n",
    "mean_rating_df = df.groupby(\"App\").agg({\"Rating\": np.mean}).T\n",
    "display(mean_rating_df)\n",
    "\n",
    "mean_rating_df.plot.bar(rot=0)\n",
    "\n",
    "plt.title(\"Mean rating of the different apps\")\n",
    "plt.xlabel(\"Apps\")\n",
    "plt.ylabel(\"Mean rating\")\n",
    "\n",
    "print(\"On peut voir ici que l'application la mieux notée est Hinge car sa note moyenne est 3.18/5\")"
   ]
  },
  {
   "cell_type": "markdown",
   "metadata": {},
   "source": [
    "On regarde quelle est la répartition des notes dans le jeu de données"
   ]
  },
  {
   "cell_type": "code",
   "execution_count": 181,
   "metadata": {},
   "outputs": [
    {
     "data": {
      "image/png": "[encoded data removed]",
      "text/plain": [
       "<Figure size 432x288 with 1 Axes>"
      ]
     },
     "metadata": {
      "needs_background": "light"
     },
     "output_type": "display_data"
    },
    {
     "name": "stdout",
     "output_type": "stream",
     "text": [
      "On observe une prépondérence de 1 et de 5 ce qui portent à croire que les utilisateurs sont soit très contents soit très mécontents de l'application.\n"
     ]
    }
   ],
   "source": [
    "plt.hist(df.Rating, density=True, bins=6, rwidth=0.8, color=\"orange\")\n",
    "plt.xlabel(\"Rating\")\n",
    "plt.ylabel(\"Fréquences\")\n",
    "plt.title(\"Fréquence d'apparition des notes dans le dataset\")\n",
    "plt.show();\n",
    "\n",
    "print(\"On observe une prépondérence de 1 et de 5 ce qui portent à croire que les utilisateurs sont soit très contents soit très mécontents de l'application.\")"
   ]
  },
  {
   "cell_type": "markdown",
   "metadata": {},
   "source": [
    "### Pré-analyse des du texte des reviews\n",
    "\n",
    "On va analyser ici les nombres de mots de chaque review et en déduire des tendances quant à la verbosité des utilisateurs en fonction de la note associée à la review"
   ]
  },
  {
   "cell_type": "code",
   "execution_count": 182,
   "metadata": {},
   "outputs": [
    {
     "name": "stdout",
     "output_type": "stream",
     "text": [
      "Nombres de mots MOYENS pour les reviews ayant été notées:\n",
      "\t- Note 0/5: 19.0 mots.\n",
      "\t- Note 1/5: 24.0 mots.\n",
      "\t- Note 2/5: 27.0 mots.\n",
      "\t- Note 3/5: 20.0 mots.\n",
      "\t- Note 4/5: 13.0 mots.\n",
      "\t- Note 5/5: 7.0 mots.\n",
      "\n",
      "Nombres de mots MEDIANS pour les reviews ayant été notées:\n",
      "\t- Note 0/5: 19.0 mots.\n",
      "\t- Note 1/5: 16.0 mots.\n",
      "\t- Note 2/5: 20.0 mots.\n",
      "\t- Note 3/5: 13.0 mots.\n",
      "\t- Note 4/5: 7.0 mots.\n",
      "\t- Note 5/5: 3.0 mots.\n",
      "Les reviews notées 4/5 et 5/5 ont une sur-représentation de reviews possédant moins de 3 mots (sans doute des emojis).\n"
     ]
    }
   ],
   "source": [
    "#On compte les mots et on ajoute une colonne contenant ce nombre dans le dataframe initial.\n",
    "df['word_count'] = df['Review'].apply(lambda x: len(str(x).split()))\n",
    "\n",
    "print(\"Nombres de mots MOYENS pour les reviews ayant été notées:\")\n",
    "print(\"\\t- Note 0/5:\", np.round(df[df['Rating']==0]['word_count'].mean()), \"mots.\") #rating 0\n",
    "print(\"\\t- Note 1/5:\", np.round(df[df['Rating']==1]['word_count'].mean()), \"mots.\") #rating 1\n",
    "print(\"\\t- Note 2/5:\", np.round(df[df['Rating']==2]['word_count'].mean()), \"mots.\") #rating 2\n",
    "print(\"\\t- Note 3/5:\", np.round(df[df['Rating']==3]['word_count'].mean()), \"mots.\") #rating 3\n",
    "print(\"\\t- Note 4/5:\", np.round(df[df['Rating']==4]['word_count'].mean()), \"mots.\") #rating 4\n",
    "print(\"\\t- Note 5/5:\", np.round(df[df['Rating']==5]['word_count'].mean()), \"mots.\") #rating 5\n",
    "\n",
    "\n",
    "print(\"\\nNombres de mots MEDIANS pour les reviews ayant été notées:\")\n",
    "print(\"\\t- Note 0/5:\", np.round(df[df['Rating']==0]['word_count'].median()), \"mots.\") #rating 0\n",
    "print(\"\\t- Note 1/5:\", np.round(df[df['Rating']==1]['word_count'].median()), \"mots.\") #rating 1\n",
    "print(\"\\t- Note 2/5:\", np.round(df[df['Rating']==2]['word_count'].median()), \"mots.\") #rating 2\n",
    "print(\"\\t- Note 3/5:\", np.round(df[df['Rating']==3]['word_count'].median()), \"mots.\") #rating 3\n",
    "print(\"\\t- Note 4/5:\", np.round(df[df['Rating']==4]['word_count'].median()), \"mots.\") #rating 4\n",
    "print(\"\\t- Note 5/5:\", np.round(df[df['Rating']==5]['word_count'].median()), \"mots.\") #rating 5\n",
    "print(\"Les reviews notées 4/5 et 5/5 ont une sur-représentation de reviews possédant moins de 3 mots (sans doute des emojis).\")\n"
   ]
  },
  {
   "cell_type": "code",
   "execution_count": 183,
   "metadata": {},
   "outputs": [
    {
     "name": "stdout",
     "output_type": "stream",
     "text": [
      "On va représenter graphiquement ces observations:\n"
     ]
    },
    {
     "data": {
      "image/png": "[encoded data removed]",
      "text/plain": [
       "<Figure size 1440x360 with 6 Axes>"
      ]
     },
     "metadata": {
      "needs_background": "light"
     },
     "output_type": "display_data"
    },
    {
     "name": "stdout",
     "output_type": "stream",
     "text": [
      "On voit ici que le moyennes du nombre de mots pour chaque review sont lourdement impactées par les commentaires qui possèdent moins de 3 mots.\n"
     ]
    }
   ],
   "source": [
    "print(\"On va représenter graphiquement ces observations:\")\n",
    "\n",
    "fig,(ax1,ax2, ax3, ax4, ax5, ax6)=plt.subplots(1, 6, figsize=(20,5))\n",
    "\n",
    "train_words=df[df['Rating']==0]['word_count']\n",
    "ax1.hist(train_words,color='red')\n",
    "ax1.set_title('Rating = 0')\n",
    "\n",
    "train_words=df[df['Rating']==1]['word_count']\n",
    "ax2.hist(train_words,color='green')\n",
    "ax2.set_title('Rating = 1')\n",
    "\n",
    "train_words=df[df['Rating']==2]['word_count']\n",
    "ax3.hist(train_words,color='blue')\n",
    "ax3.set_title('Rating = 2')\n",
    "\n",
    "train_words=df[df['Rating']==3]['word_count']\n",
    "ax4.hist(train_words,color='orange')\n",
    "ax4.set_title('Rating = 3')\n",
    "\n",
    "train_words=df[df['Rating']==4]['word_count']\n",
    "ax5.hist(train_words,color='yellow')\n",
    "ax5.set_title('Rating = 4')\n",
    "\n",
    "train_words=df[df['Rating']==5]['word_count']\n",
    "ax6.hist(train_words,color='purple')\n",
    "ax6.set_title('Rating = 5')\n",
    "\n",
    "fig.suptitle(\"Répartition du nombre de mots dans chaque review en fonction du rating associé\")\n",
    "plt.show();\n",
    "\n",
    "print(\"On voit ici que le moyennes du nombre de mots pour chaque review sont lourdement impactées par les commentaires qui possèdent moins de 3 mots.\")\n"
   ]
  },
  {
   "cell_type": "markdown",
   "metadata": {},
   "source": [
    "### Analyse temporelle du jeu de données"
   ]
  },
  {
   "cell_type": "markdown",
   "metadata": {},
   "source": [
    "J'ai trouvé sur internet, une anlalyse pertinente à faire avec ce genre de jeu de données: la part de marché de chaque application en fonction des années, basée sur le nombre de review laissées, c'est ce que nous allons faire ici:"
   ]
  },
  {
   "cell_type": "code",
   "execution_count": 205,
   "metadata": {},
   "outputs": [],
   "source": [
    "#On change le format de la date fourni dans le dataframe initial\n",
    "df['Date&Time'] = pd.to_datetime(df['Date&Time'], format=\"%d-%m-%Y %H:%M\")\n",
    "\n",
    "bins=[2013,2015,2017,2019,2021,2022]\n",
    "labels=['2013-2014', '2015-2016', '2017-2018','2019-2020','2021-2022']\n",
    "df_gb_year = df.groupby(by=pd.cut(df['Date&Time'].dt.year, bins=bins, labels=labels))\n",
    "\n",
    "df_by_year = list(df_gb_year)\n",
    "subplot_titles = [item[0] for item in df_by_year]"
   ]
  },
  {
   "cell_type": "code",
   "execution_count": 243,
   "metadata": {},
   "outputs": [
    {
     "data": {
      "image/png": "[encoded data removed]",
      "text/plain": [
       "<Figure size 1080x720 with 5 Axes>"
      ]
     },
     "metadata": {},
     "output_type": "display_data"
    }
   ],
   "source": [
    "plt.figure(figsize=(15, 10))\n",
    "for index, item in enumerate(df_by_year):\n",
    "    position = int(\"23\" + str(index+1))\n",
    "    plt.subplot(position)\n",
    "    slice = item[1]['App'].value_counts().to_frame().reset_index().rename(columns={\"index\": \"App\", \"App\": \"#Reviews\"})\n",
    "    plt.pie(x = slice[\"#Reviews\"], labels=slice[\"App\"], labeldistance = 1, autopct='%1.1f%%', startangle=140, pctdistance=0.65, radius = 1)\n"
   ]
  },
  {
   "cell_type": "markdown",
   "metadata": {},
   "source": [
    "### Séparation des variables et balance des données\n",
    "\n",
    "On sépare ici le jeu de données en 2 afin d'extraire les variables explicatives de la variable cible. \n",
    "\n",
    "Notre variable explicative est ici \"Review\" et la variable cible est \"Rating\""
   ]
  },
  {
   "cell_type": "code",
   "execution_count": 105,
   "metadata": {},
   "outputs": [
    {
     "name": "stdout",
     "output_type": "stream",
     "text": [
      "On est surtout intéressés par les Reviews et la note associée donc on drop les colonnes qui ne nous servent pas.\n"
     ]
    }
   ],
   "source": [
    "print(\"On est surtout intéressés par les Reviews et la note associée donc on drop les colonnes qui ne nous servent pas.\")\n",
    "#X = df.drop([\"Rating\", \"#ThumbsUp\", \"Name\", \"Date&Time\", \"App\" ], axis = 1)\n",
    "X = df.Review\n",
    "y = df.Rating"
   ]
  },
  {
   "cell_type": "code",
   "execution_count": null,
   "metadata": {},
   "outputs": [],
   "source": []
  }
 ],
 "metadata": {
  "interpreter": {
   "hash": "86b2f5735f87b0fa134201e8b0fc427822a6ff5f711a326dc96a428b071085e9"
  },
  "kernelspec": {
   "display_name": "Python 3.9.7 ('datascience')",
   "language": "python",
   "name": "python3"
  },
  "language_info": {
   "codemirror_mode": {
    "name": "ipython",
    "version": 3
   },
   "file_extension": ".py",
   "mimetype": "text/x-python",
   "name": "python",
   "nbconvert_exporter": "python",
   "pygments_lexer": "ipython3",
   "version": "3.9.7"
  },
  "orig_nbformat": 4
 },
 "nbformat": 4,
 "nbformat_minor": 2
}
